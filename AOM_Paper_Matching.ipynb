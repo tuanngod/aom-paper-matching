{
 "cells": [
  {
   "cell_type": "markdown",
   "id": "Gl_EH2l30e_u",
   "metadata": {
    "id": "Gl_EH2l30e_u"
   },
   "source": [
    "# AOM Paper Matching\n",
    "\n",
    "This is part of my effort in creating a dataset for studying the process of knowledge creation via scientists' collaboration, particularly the antecedents of collaboration performance. \n",
    "\n",
    "In order to measure collaboration performance, we start with using papers presented at the 2001-2014 Academy of Management (AOM) conferences. Because the key purpose of the conferences is for scientists to share their research ideas and on-going projects, the bar for paper acceptance at the AOM conferences is relatively lower than that at related top-tier journals. Therefore, I use AOM conference papers to capture scientists' collaboration and journal papers to capture successful collaboration. \n",
    "\n",
    "To identify successful collaboration, I am required to match AOM conference papers to journal papers. Matched AOM conference papers indicate successful collaborations. Unmatched AOM conference papers indicate unsuccesful collaborations."
   ]
  },
  {
   "cell_type": "code",
   "execution_count": null,
   "id": "y26PfDhmLeTH",
   "metadata": {
    "id": "y26PfDhmLeTH"
   },
   "outputs": [],
   "source": [
    "import os\n",
    "import re\n",
    "import sys\n",
    "import csv\n",
    "import pyprind\n",
    "import threading\n",
    "\n",
    "import numpy as np\n",
    "import pandas as pd\n",
    "import py_entitymatching as em"
   ]
  },
  {
   "cell_type": "code",
   "execution_count": null,
   "id": "0QWRuMd9LQDt",
   "metadata": {
    "colab": {
     "base_uri": "https://localhost:8080/"
    },
    "id": "0QWRuMd9LQDt",
    "outputId": "75a6e06f-fb13-4d0f-d826-914bba0b5b30"
   },
   "outputs": [
    {
     "name": "stdout",
     "output_type": "stream",
     "text": [
      "python version: 3.7.12 (default, Sep 10 2021, 00:21:48) \n",
      "[GCC 7.5.0]\n",
      "pandas version: 1.1.5\n",
      "magellan version: 0.4.0\n"
     ]
    }
   ],
   "source": [
    "# confirm Python & libraries version\n",
    "print(\"python version: \" + sys.version)\n",
    "print(\"pandas version: \" + pd.__version__)\n",
    "print(\"magellan version: \" + em.__version__)"
   ]
  },
  {
   "cell_type": "markdown",
   "id": "S-jSKgK01a3b",
   "metadata": {
    "id": "S-jSKgK01a3b"
   },
   "source": [
    "## 1 - DATASET DESCRIPTION\n",
    "\n",
    "2 datasets that we're using for matching\n",
    "\n",
    "data is located at:"
   ]
  },
  {
   "cell_type": "code",
   "execution_count": null,
   "id": "HqQEWiss3ruL",
   "metadata": {
    "id": "HqQEWiss3ruL"
   },
   "outputs": [],
   "source": [
    "path_to_csv_dir = '/content/drive/MyDrive/colab_notebooks/paper_matching/data'"
   ]
  },
  {
   "cell_type": "markdown",
   "id": "3jgm2bzS36Pt",
   "metadata": {
    "id": "3jgm2bzS36Pt"
   },
   "source": [
    "### 1.A. AOM-conference-paper dataset\n",
    "AOM-conference-paper dataset consists of the following information:\n",
    "1. Conference paper ID \n",
    "2. Year of conference\n",
    "3. Paper abstract \n",
    "4. Author list (last name, first name)\n",
    "5. Author list (first name, last name)\n",
    "6. First author's first name\n",
    "7. First author's last name\n",
    "\n",
    "Below is a snippet of the dataset"
   ]
  },
  {
   "cell_type": "code",
   "execution_count": null,
   "id": "mCWNHBUNWzAC",
   "metadata": {
    "colab": {
     "base_uri": "https://localhost:8080/",
     "height": 272
    },
    "id": "mCWNHBUNWzAC",
    "outputId": "ed872c11-6960-4e10-f4e6-768a5df9987a"
   },
   "outputs": [
    {
     "name": "stderr",
     "output_type": "stream",
     "text": [
      "Metadata file is not present in the given path; proceeding to read the csv file.\n"
     ]
    },
    {
     "data": {
      "text/html": [
       "<div>\n",
       "<style scoped>\n",
       "    .dataframe tbody tr th:only-of-type {\n",
       "        vertical-align: middle;\n",
       "    }\n",
       "\n",
       "    .dataframe tbody tr th {\n",
       "        vertical-align: top;\n",
       "    }\n",
       "\n",
       "    .dataframe thead th {\n",
       "        text-align: right;\n",
       "    }\n",
       "</style>\n",
       "<table border=\"1\" class=\"dataframe\">\n",
       "  <thead>\n",
       "    <tr style=\"text-align: right;\">\n",
       "      <th></th>\n",
       "      <th>id</th>\n",
       "      <th>year</th>\n",
       "      <th>bow</th>\n",
       "      <th>authors</th>\n",
       "      <th>authors_first_last</th>\n",
       "      <th>first_author_first</th>\n",
       "      <th>first_author_last</th>\n",
       "    </tr>\n",
       "  </thead>\n",
       "  <tbody>\n",
       "    <tr>\n",
       "      <th>0</th>\n",
       "      <td>2001_1001_1</td>\n",
       "      <td>2001</td>\n",
       "      <td>variation,in,systemic,technologies,some,evidence,from,the,personal,computer,technological,system...</td>\n",
       "      <td>Ethiraj, Sendil</td>\n",
       "      <td>Sendil Ethiraj</td>\n",
       "      <td>Sendil</td>\n",
       "      <td>Ethiraj</td>\n",
       "    </tr>\n",
       "    <tr>\n",
       "      <th>1</th>\n",
       "      <td>2001_1001_2</td>\n",
       "      <td>2001</td>\n",
       "      <td>looking,through,the,kaleidoscope,measuring,technological,capability,and,performance,does,the,dev...</td>\n",
       "      <td>Coombs, Joseph E.|Bierly, Paul</td>\n",
       "      <td>Joseph Coombs|Paul Bierly</td>\n",
       "      <td>Joseph</td>\n",
       "      <td>Coombs</td>\n",
       "    </tr>\n",
       "    <tr>\n",
       "      <th>2</th>\n",
       "      <td>2001_1001_3</td>\n",
       "      <td>2001</td>\n",
       "      <td>the,concentration,of,basic,and,applied,research,in,the,semiconductor,and,pharmaceutical,industri...</td>\n",
       "      <td>Lim, Kwanghui</td>\n",
       "      <td>Kwanghui Lim</td>\n",
       "      <td>Kwanghui</td>\n",
       "      <td>Lim</td>\n",
       "    </tr>\n",
       "    <tr>\n",
       "      <th>3</th>\n",
       "      <td>2001_1001_4</td>\n",
       "      <td>2001</td>\n",
       "      <td>my,strategy,says,see,you,in,court,determinants,of,decisions,not,to,settle,patent,litigation,in,c...</td>\n",
       "      <td>Somaya, Deepak</td>\n",
       "      <td>Deepak Somaya</td>\n",
       "      <td>Deepak</td>\n",
       "      <td>Somaya</td>\n",
       "    </tr>\n",
       "    <tr>\n",
       "      <th>4</th>\n",
       "      <td>2001_1001_5</td>\n",
       "      <td>2001</td>\n",
       "      <td>departures,of,key,inventors,post,acquisitions,an,empirical,explanation,past,research,on,the,cons...</td>\n",
       "      <td>Paruchuri, Srikanth|Nerkar, Atul|Hambrick, Donald C.</td>\n",
       "      <td>Srikanth Paruchuri|Atul Nerkar|Donald Hambrick</td>\n",
       "      <td>Srikanth</td>\n",
       "      <td>Paruchuri</td>\n",
       "    </tr>\n",
       "  </tbody>\n",
       "</table>\n",
       "</div>"
      ],
      "text/plain": [
       "            id  year  ... first_author_first first_author_last\n",
       "0  2001_1001_1  2001  ...             Sendil           Ethiraj\n",
       "1  2001_1001_2  2001  ...             Joseph            Coombs\n",
       "2  2001_1001_3  2001  ...           Kwanghui               Lim\n",
       "3  2001_1001_4  2001  ...             Deepak            Somaya\n",
       "4  2001_1001_5  2001  ...           Srikanth         Paruchuri\n",
       "\n",
       "[5 rows x 7 columns]"
      ]
     },
     "execution_count": 10,
     "metadata": {},
     "output_type": "execute_result"
    }
   ],
   "source": [
    "CONF_INDEX = 'id'\n",
    "CONF = ['id', 'year', 'bow', 'authors', 'authors_first_last', 'first_author_first', 'first_author_last']\n",
    "CONF = em.read_csv_metadata(f\"{path_to_csv_dir}/conferences_final_210607.csv\", key=CONF_INDEX)\n",
    "CONF.head()"
   ]
  },
  {
   "cell_type": "markdown",
   "id": "PWJBWLgG6P76",
   "metadata": {
    "id": "PWJBWLgG6P76"
   },
   "source": [
    "In the AOM conference-paper dataset, there are 37,587 rows (i.e. conference papers)"
   ]
  },
  {
   "cell_type": "code",
   "execution_count": null,
   "id": "3jzBZy4a6V8q",
   "metadata": {
    "colab": {
     "base_uri": "https://localhost:8080/"
    },
    "id": "3jzBZy4a6V8q",
    "outputId": "fbc7e71b-691a-40e5-9862-ce4b9c3fe247"
   },
   "outputs": [
    {
     "data": {
      "text/plain": [
       "37587"
      ]
     },
     "execution_count": 11,
     "metadata": {},
     "output_type": "execute_result"
    }
   ],
   "source": [
    "CONF.shape[0]"
   ]
  },
  {
   "cell_type": "markdown",
   "id": "1UdnxvVe6qLZ",
   "metadata": {
    "id": "1UdnxvVe6qLZ"
   },
   "source": [
    "Below is the number of conference papers by conference year\n"
   ]
  },
  {
   "cell_type": "code",
   "execution_count": null,
   "id": "wVwQEmA46xxt",
   "metadata": {
    "colab": {
     "base_uri": "https://localhost:8080/"
    },
    "id": "wVwQEmA46xxt",
    "outputId": "7b922053-486f-468c-a200-0a8fe11f063a"
   },
   "outputs": [
    {
     "data": {
      "text/plain": [
       "2001    1129\n",
       "2002    1427\n",
       "2003    1950\n",
       "2004    1982\n",
       "2005    2477\n",
       "2006    2895\n",
       "2007    3285\n",
       "2008    3514\n",
       "2009    3358\n",
       "2010    3159\n",
       "2011    2869\n",
       "2012    3374\n",
       "2013    2882\n",
       "2014    3286\n",
       "Name: year, dtype: int64"
      ]
     },
     "execution_count": 17,
     "metadata": {},
     "output_type": "execute_result"
    }
   ],
   "source": [
    "CONF.year.value_counts().sort_index()"
   ]
  },
  {
   "cell_type": "markdown",
   "id": "cGdUEv_I3RGu",
   "metadata": {
    "id": "cGdUEv_I3RGu"
   },
   "source": [
    "### 1.B. Journal-paper dataset\n",
    "Journal-paper dataset consists of the following information:\n",
    "1. Publication ID \n",
    "2. Publication year\n",
    "3. Publication abstract \n",
    "4. Author list (last name, first name)\n",
    "5. Author list (first name, last name)\n",
    "\n",
    "Below is a snippet of the dataset:"
   ]
  },
  {
   "cell_type": "code",
   "execution_count": null,
   "id": "XEmZ0uKqLQDu",
   "metadata": {
    "colab": {
     "base_uri": "https://localhost:8080/",
     "height": 221
    },
    "id": "XEmZ0uKqLQDu",
    "outputId": "8e30ece0-5a85-4395-e39e-c129dca179af"
   },
   "outputs": [
    {
     "name": "stderr",
     "output_type": "stream",
     "text": [
      "Metadata file is not present in the given path; proceeding to read the csv file.\n"
     ]
    },
    {
     "data": {
      "text/html": [
       "<div>\n",
       "<style scoped>\n",
       "    .dataframe tbody tr th:only-of-type {\n",
       "        vertical-align: middle;\n",
       "    }\n",
       "\n",
       "    .dataframe tbody tr th {\n",
       "        vertical-align: top;\n",
       "    }\n",
       "\n",
       "    .dataframe thead th {\n",
       "        text-align: right;\n",
       "    }\n",
       "</style>\n",
       "<table border=\"1\" class=\"dataframe\">\n",
       "  <thead>\n",
       "    <tr style=\"text-align: right;\">\n",
       "      <th></th>\n",
       "      <th>id</th>\n",
       "      <th>year</th>\n",
       "      <th>bow</th>\n",
       "      <th>authors</th>\n",
       "      <th>authors_first_last</th>\n",
       "    </tr>\n",
       "  </thead>\n",
       "  <tbody>\n",
       "    <tr>\n",
       "      <th>0</th>\n",
       "      <td>1</td>\n",
       "      <td>2004</td>\n",
       "      <td>a,rounded,picture,is,what,we,need,rhetorical,strategies,arguments,and,the,negotiation,of,change,...</td>\n",
       "      <td>Mueller, Frank|Sillince, John|Harvey, Charles|Howorth, Chris</td>\n",
       "      <td>Frank Mueller|John Sillince|Charles Harvey|Chris Howorth</td>\n",
       "    </tr>\n",
       "    <tr>\n",
       "      <th>1</th>\n",
       "      <td>2</td>\n",
       "      <td>2005</td>\n",
       "      <td>an,indissoluble,mutual,destiny,the,north,staffordshire,potteries,and,the,limits,of,regional,trad...</td>\n",
       "      <td>Popp, Andrew</td>\n",
       "      <td>Andrew Popp</td>\n",
       "    </tr>\n",
       "    <tr>\n",
       "      <th>2</th>\n",
       "      <td>3</td>\n",
       "      <td>2009</td>\n",
       "      <td>being,regimented,aspiration,discipline,and,identity,work,in,the,british,parachute,regiment,this,...</td>\n",
       "      <td>Thornborrow, Thomas|Brown, Andrew D.</td>\n",
       "      <td>Thomas Thornborrow|Andrew D. Brown</td>\n",
       "    </tr>\n",
       "    <tr>\n",
       "      <th>3</th>\n",
       "      <td>4</td>\n",
       "      <td>2016</td>\n",
       "      <td>beyond,the,attitude,behaviour,gap,novel,perspectives,in,consumer,ethics,introduction,to,the,them...</td>\n",
       "      <td>Caruana, Robert|Carrington, Michal|Chatzidakis, Andreas</td>\n",
       "      <td>Robert Caruana|Michal Carrington|Andreas Chatzidakis</td>\n",
       "    </tr>\n",
       "    <tr>\n",
       "      <th>4</th>\n",
       "      <td>5</td>\n",
       "      <td>2015</td>\n",
       "      <td>bouncing,back,from,a,loss,entrepreneurial,orientation,emotions,and,failure,narratives,in,this,st...</td>\n",
       "      <td>Wolfe, Marcus T.|Shepherd, Dean A.</td>\n",
       "      <td>Marcus T. Wolfe|Dean A. Shepherd</td>\n",
       "    </tr>\n",
       "  </tbody>\n",
       "</table>\n",
       "</div>"
      ],
      "text/plain": [
       "   id  ...                                        authors_first_last\n",
       "0   1  ...  Frank Mueller|John Sillince|Charles Harvey|Chris Howorth\n",
       "1   2  ...                                               Andrew Popp\n",
       "2   3  ...                        Thomas Thornborrow|Andrew D. Brown\n",
       "3   4  ...      Robert Caruana|Michal Carrington|Andreas Chatzidakis\n",
       "4   5  ...                          Marcus T. Wolfe|Dean A. Shepherd\n",
       "\n",
       "[5 rows x 5 columns]"
      ]
     },
     "execution_count": 15,
     "metadata": {},
     "output_type": "execute_result"
    }
   ],
   "source": [
    "JOUR_INDEX = 'id'\n",
    "JOUR = ['id', 'year', 'bow', 'authors', 'authors_first_last']\n",
    "JOUR = em.read_csv_metadata(f\"{path_to_csv_dir}/journals_final_210607.csv\", key=JOUR_INDEX)\n",
    "JOUR.head()"
   ]
  },
  {
   "cell_type": "markdown",
   "id": "ynr7Oth06dSp",
   "metadata": {
    "id": "ynr7Oth06dSp"
   },
   "source": [
    "In the journal-paper dataset, there are 38,700 rows (i.e., journal papers)"
   ]
  },
  {
   "cell_type": "code",
   "execution_count": null,
   "id": "w4nsX1kn6kBC",
   "metadata": {
    "colab": {
     "base_uri": "https://localhost:8080/"
    },
    "id": "w4nsX1kn6kBC",
    "outputId": "e2291ede-8b9b-4096-ec46-de686a7d41b4"
   },
   "outputs": [
    {
     "data": {
      "text/plain": [
       "38700"
      ]
     },
     "execution_count": 12,
     "metadata": {},
     "output_type": "execute_result"
    }
   ],
   "source": [
    "JOUR.shape[0]"
   ]
  },
  {
   "cell_type": "markdown",
   "id": "oAN_EVx7ASCP",
   "metadata": {
    "id": "oAN_EVx7ASCP"
   },
   "source": [
    "Below is the number of journal papers by year (from 2000)"
   ]
  },
  {
   "cell_type": "code",
   "execution_count": null,
   "id": "ZuF2TrQnAbKy",
   "metadata": {
    "colab": {
     "base_uri": "https://localhost:8080/"
    },
    "id": "ZuF2TrQnAbKy",
    "outputId": "d627e237-a361-48a1-b17c-c2f1fe9a83cf"
   },
   "outputs": [
    {
     "data": {
      "text/plain": [
       "2000     794\n",
       "2001     751\n",
       "2002     768\n",
       "2003     797\n",
       "2004     865\n",
       "2005     903\n",
       "2006     911\n",
       "2007     976\n",
       "2008    1035\n",
       "2009    1210\n",
       "2010    1106\n",
       "2011    1040\n",
       "2012     960\n",
       "2013    1146\n",
       "2014    1074\n",
       "2015    1204\n",
       "2016    1150\n",
       "2017    1257\n",
       "2018    1461\n",
       "2019    1532\n",
       "2020     439\n",
       "Name: year, dtype: int64"
      ]
     },
     "execution_count": 19,
     "metadata": {},
     "output_type": "execute_result"
    }
   ],
   "source": [
    "JOUR[JOUR.year>=2000].year.value_counts().sort_index()"
   ]
  },
  {
   "cell_type": "markdown",
   "id": "O2sy2pMT3fV8",
   "metadata": {
    "id": "O2sy2pMT3fV8"
   },
   "source": [
    "## 2 - ENTITY MATCHING MODEL\n",
    "\n",
    "Here we build our entity matching model \n",
    "\n",
    "A) Create new features for matching\n",
    "\n",
    "B) Import a golden dataset\n",
    "\n",
    "C) Train the entity matching models\n",
    "\n",
    "D) Evaluate performance\n"
   ]
  },
  {
   "cell_type": "markdown",
   "id": "D6jmO19N5THC",
   "metadata": {
    "id": "D6jmO19N5THC"
   },
   "source": [
    "### 2.A. Creation of New Features"
   ]
  },
  {
   "cell_type": "code",
   "execution_count": null,
   "id": "mLfDeeYjwlWh",
   "metadata": {
    "id": "mLfDeeYjwlWh"
   },
   "outputs": [],
   "source": [
    "# import similarity measures\n",
    "from py_stringmatching.similarity_measure.affine import Affine\n",
    "from py_stringmatching.similarity_measure.tfidf import TfIdf\n"
   ]
  },
  {
   "cell_type": "markdown",
   "id": "aU92dOOz5tag",
   "metadata": {
    "id": "aU92dOOz5tag"
   },
   "source": [
    "#### 2.A.1. Similarity of full authors list (using authors' names)"
   ]
  },
  {
   "cell_type": "code",
   "execution_count": null,
   "id": "YB7_Hpem5yYh",
   "metadata": {
    "id": "YB7_Hpem5yYh"
   },
   "outputs": [],
   "source": [
    "def author_sim_affine(text1, text2):\n",
    "    # default: (gap_start) gs = 1; (gap_continuation) gc = 0.5\n",
    "    aff = Affine(gap_start=2, gap_continuation=0.5)\n",
    "    js = text1.split('|')\n",
    "    cs = text2.split('|')\n",
    "    if len(js) < len(cs):\n",
    "        denominator = len(js)\n",
    "        left_set = js\n",
    "        right_set = cs\n",
    "    else:\n",
    "        denominator = len(cs)\n",
    "        left_set = cs\n",
    "        right_set = js\n",
    "    numerator = 0\n",
    "    for i in left_set:\n",
    "        score_max = -1\n",
    "        for j in right_set:\n",
    "            if score_max < aff.get_raw_score(j, i):\n",
    "                score_max = aff.get_raw_score(j, i)\n",
    "        numerator += score_max\n",
    "    return numerator/denominator\n",
    "\n",
    "def authors_similarity(ltuple, rtuple):\n",
    "    j = str(ltuple[\"authors_first_last\"])\n",
    "    c = str(rtuple[\"authors_first_last\"])\n",
    "    return author_sim_affine(j, c)"
   ]
  },
  {
   "cell_type": "markdown",
   "id": "VBSGwzNs54Sb",
   "metadata": {
    "id": "VBSGwzNs54Sb"
   },
   "source": [
    "#### 2.A.2. Similarity of first authors' names"
   ]
  },
  {
   "cell_type": "code",
   "execution_count": null,
   "id": "Ji1N8Eo66ErO",
   "metadata": {
    "id": "Ji1N8Eo66ErO"
   },
   "outputs": [],
   "source": [
    "def first_author_similarity(ltuple, rtuple):\n",
    "    c_first_author_first_last = str(rtuple['first_author_first']) + \"_\" +\\\n",
    "                                str(rtuple['first_author_last'])\n",
    "    jauthors = str(ltuple[\"authors\"])\n",
    "    return author_sim_affine(c_first_author_first_last, jauthors)"
   ]
  },
  {
   "cell_type": "markdown",
   "id": "z_a0ek4n6D_b",
   "metadata": {
    "id": "z_a0ek4n6D_b"
   },
   "source": [
    "#### 2.A.3. Similarity of paper abstracts"
   ]
  },
  {
   "cell_type": "code",
   "execution_count": null,
   "id": "XO6krYSs6Kwv",
   "metadata": {
    "id": "XO6krYSs6Kwv"
   },
   "outputs": [],
   "source": [
    "def bow_tfidf(ltuple, rtuple):\n",
    "    df = pd.read_csv(f'{path_to_csv_dir}/corpus.csv')\n",
    "    tfidf = TfIdf(corpus_list=list(df.corpus))\n",
    "    tfidf.set_dampen(True)\n",
    "    bag1 = str(ltuple[\"bow\"]).split(\",\")\n",
    "    bag2 = str(rtuple[\"bow\"]).split(\",\")\n",
    "    return tfidf.get_sim_score(bag1, bag2)"
   ]
  },
  {
   "cell_type": "markdown",
   "id": "4lNTXuqt6NcW",
   "metadata": {
    "id": "4lNTXuqt6NcW"
   },
   "source": [
    "#### 2.A.4. Difference between conference and publication years"
   ]
  },
  {
   "cell_type": "code",
   "execution_count": null,
   "id": "jHYsGo7W6c4a",
   "metadata": {
    "id": "jHYsGo7W6c4a"
   },
   "outputs": [],
   "source": [
    "def year_difference(ltuple, rtuple):\n",
    "    return ltuple[\"year\"] - rtuple[\"year\"]"
   ]
  },
  {
   "cell_type": "markdown",
   "id": "FUhBP_kn6lJT",
   "metadata": {
    "id": "FUhBP_kn6lJT"
   },
   "source": [
    "### 2.B. Golden Data\n",
    "\n",
    "The golden dataset was created following 3 steps:\n",
    "\n",
    "<u><b>STEP 1 - Identify positive cases</u></b>\n",
    "1. From the journal dataset, I first created a set of all journal papers (SET A) that were published between 2000 and 2014\n",
    "2. For each journal paper in SET A, I identified a set of all conference papers that potentially matches with the focal journal paper (SET B). Specifically, I selected conference papers that meet both conditions: 1) share at least 1 author (with high similarity score) with the journal paper, 2) conference year is in the same year or earlier than the journal-paper year.\n",
    "3. I evaluated each pair of journal papers and potential conference papers (coming from SET A and SET B), and identified all matching pairs (SET C).\n",
    "\n",
    "<u><b>STEP 2 - Identify negative cases</u></b>\n",
    "1. Those pairs that were identified as not matching were taken as negative cases (SET D)\n",
    "\n",
    "<u><b>STEP 3 - Create golden dataset</u></b>\n",
    "1. I combined SET C and SET D to create a golden dataset that contains both negative (xxx pairs) and positive pairs (xxx). \n",
    "\n",
    "Then, I randomly split the golden dataset into 2 sets: 1) train set and 2) test set\n",
    "\n",
    "The train set contains 5,759 pairs: 353 positive, 5,406 negative\n"
   ]
  },
  {
   "cell_type": "code",
   "execution_count": null,
   "id": "8nlK_IQuw_Qf",
   "metadata": {
    "colab": {
     "base_uri": "https://localhost:8080/"
    },
    "id": "8nlK_IQuw_Qf",
    "outputId": "d7dde352-626a-4c37-f39c-626ba79b608d"
   },
   "outputs": [
    {
     "name": "stderr",
     "output_type": "stream",
     "text": [
      "Metadata file is not present in the given path; proceeding to read the csv file.\n"
     ]
    },
    {
     "data": {
      "text/plain": [
       "0    5406\n",
       "1     353\n",
       "Name: gold_label, dtype: int64"
      ]
     },
     "execution_count": 31,
     "metadata": {},
     "output_type": "execute_result"
    }
   ],
   "source": [
    "train_path = f\"{path_to_csv_dir}/training_labeled_210607.csv\"\n",
    "train_set = em.read_csv_metadata(\n",
    "    train_path, \n",
    "    key='_id',\n",
    "    ltable=JOUR, \n",
    "    rtable=CONF,\n",
    "    fk_ltable='ltable_'+JOUR_INDEX, \n",
    "    fk_rtable='rtable_'+CONF_INDEX\n",
    ")\n",
    "\n",
    "train_set.gold_label.value_counts()"
   ]
  },
  {
   "cell_type": "markdown",
   "id": "1soqpv4J8YdP",
   "metadata": {
    "id": "1soqpv4J8YdP"
   },
   "source": [
    "C - Create feature vectors\n"
   ]
  },
  {
   "cell_type": "markdown",
   "id": "zGbxqTC29len",
   "metadata": {
    "id": "zGbxqTC29len"
   },
   "source": [
    "Initialize Magellan with the list of features meta data..."
   ]
  },
  {
   "cell_type": "code",
   "execution_count": null,
   "id": "OEcAW9GfLQDv",
   "metadata": {
    "colab": {
     "base_uri": "https://localhost:8080/",
     "height": 306
    },
    "id": "OEcAW9GfLQDv",
    "outputId": "d89aaa81-131d-43ff-a7d1-6185069ff3c1"
   },
   "outputs": [
    {
     "name": "stdout",
     "output_type": "stream",
     "text": [
      "The table shows the corresponding attributes along with their respective types.\n",
      "Please confirm that the information  has been correctly inferred.\n",
      "If you would like to skip this validation process in the future,\n",
      "please set the flag validate_inferred_attr_types equal to false.\n"
     ]
    },
    {
     "data": {
      "text/html": [
       "<div>\n",
       "<style scoped>\n",
       "    .dataframe tbody tr th:only-of-type {\n",
       "        vertical-align: middle;\n",
       "    }\n",
       "\n",
       "    .dataframe tbody tr th {\n",
       "        vertical-align: top;\n",
       "    }\n",
       "\n",
       "    .dataframe thead th {\n",
       "        text-align: right;\n",
       "    }\n",
       "</style>\n",
       "<table border=\"1\" class=\"dataframe\">\n",
       "  <thead>\n",
       "    <tr style=\"text-align: right;\">\n",
       "      <th></th>\n",
       "      <th>Left Attribute</th>\n",
       "      <th>Right Attribute</th>\n",
       "      <th>Left Attribute Type</th>\n",
       "      <th>Right Attribute Type</th>\n",
       "      <th>Example Features</th>\n",
       "    </tr>\n",
       "  </thead>\n",
       "  <tbody>\n",
       "    <tr>\n",
       "      <th>0</th>\n",
       "      <td>id</td>\n",
       "      <td>id</td>\n",
       "      <td>numeric</td>\n",
       "      <td>short string (1 word)</td>\n",
       "      <td>Not Applicable: Types do not match</td>\n",
       "    </tr>\n",
       "    <tr>\n",
       "      <th>1</th>\n",
       "      <td>year</td>\n",
       "      <td>year</td>\n",
       "      <td>numeric</td>\n",
       "      <td>numeric</td>\n",
       "      <td>Exact Match; Absolute Norm</td>\n",
       "    </tr>\n",
       "    <tr>\n",
       "      <th>2</th>\n",
       "      <td>bow</td>\n",
       "      <td>bow</td>\n",
       "      <td>short string (1 word)</td>\n",
       "      <td>short string (1 word)</td>\n",
       "      <td>Levenshtein Distance; Levenshtein Similarity</td>\n",
       "    </tr>\n",
       "    <tr>\n",
       "      <th>3</th>\n",
       "      <td>authors</td>\n",
       "      <td>authors</td>\n",
       "      <td>short string (1 word to 5 words)</td>\n",
       "      <td>short string (1 word to 5 words)</td>\n",
       "      <td>Jaccard Similarity [3-grams, 3-grams]; Cosine Similarity [Space Delimiter, Space Delimiter]</td>\n",
       "    </tr>\n",
       "    <tr>\n",
       "      <th>4</th>\n",
       "      <td>authors_first_last</td>\n",
       "      <td>authors_first_last</td>\n",
       "      <td>short string (1 word to 5 words)</td>\n",
       "      <td>short string (1 word to 5 words)</td>\n",
       "      <td>Jaccard Similarity [3-grams, 3-grams]; Cosine Similarity [Space Delimiter, Space Delimiter]</td>\n",
       "    </tr>\n",
       "  </tbody>\n",
       "</table>\n",
       "</div>"
      ],
      "text/plain": [
       "       Left Attribute  ...                                                                             Example Features\n",
       "0                  id  ...                                                           Not Applicable: Types do not match\n",
       "1                year  ...                                                                   Exact Match; Absolute Norm\n",
       "2                 bow  ...                                                 Levenshtein Distance; Levenshtein Similarity\n",
       "3             authors  ...  Jaccard Similarity [3-grams, 3-grams]; Cosine Similarity [Space Delimiter, Space Delimiter]\n",
       "4  authors_first_last  ...  Jaccard Similarity [3-grams, 3-grams]; Cosine Similarity [Space Delimiter, Space Delimiter]\n",
       "\n",
       "[5 rows x 5 columns]"
      ]
     },
     "metadata": {},
     "output_type": "display_data"
    },
    {
     "name": "stdout",
     "output_type": "stream",
     "text": [
      "Do you want to proceed? (y/n):y\n"
     ]
    },
    {
     "data": {
      "text/plain": [
       "True"
      ]
     },
     "execution_count": 32,
     "metadata": {},
     "output_type": "execute_result"
    }
   ],
   "source": [
    "# Generate a set of features\n",
    "feature_meta_data = em.get_features_for_matching(JOUR, CONF)\n",
    "em.add_blackbox_feature(feature_meta_data, 'authors_similarity', authors_similarity)\n",
    "em.add_blackbox_feature(feature_meta_data, 'first_author_similarity', first_author_similarity)\n",
    "em.add_blackbox_feature(feature_meta_data, 'year_difference', year_difference)\n",
    "em.add_blackbox_feature(feature_meta_data, 'bow_tfidf', bow_tfidf)"
   ]
  },
  {
   "cell_type": "markdown",
   "id": "E9f4a2cODTYb",
   "metadata": {
    "id": "E9f4a2cODTYb"
   },
   "source": [
    "In total, there are 29 features"
   ]
  },
  {
   "cell_type": "code",
   "execution_count": null,
   "id": "TeiCzVd1Bye5",
   "metadata": {
    "colab": {
     "base_uri": "https://localhost:8080/"
    },
    "id": "TeiCzVd1Bye5",
    "outputId": "b9782a3a-49d2-494c-b696-ec819b6c821f"
   },
   "outputs": [
    {
     "data": {
      "text/plain": [
       "0                                                 year_year_exm\n",
       "1                                                 year_year_anm\n",
       "2                                            year_year_lev_dist\n",
       "3                                             year_year_lev_sim\n",
       "4                                              bow_bow_lev_dist\n",
       "5                                               bow_bow_lev_sim\n",
       "6                                                   bow_bow_jar\n",
       "7                                                   bow_bow_jwn\n",
       "8                                                   bow_bow_exm\n",
       "9                                       bow_bow_jac_qgm_3_qgm_3\n",
       "10                              authors_authors_jac_qgm_3_qgm_3\n",
       "11                          authors_authors_cos_dlm_dc0_dlm_dc0\n",
       "12                          authors_authors_jac_dlm_dc0_dlm_dc0\n",
       "13                                          authors_authors_mel\n",
       "14                                     authors_authors_lev_dist\n",
       "15                                      authors_authors_lev_sim\n",
       "16                                          authors_authors_nmw\n",
       "17                                           authors_authors_sw\n",
       "18        authors_first_last_authors_first_last_jac_qgm_3_qgm_3\n",
       "19    authors_first_last_authors_first_last_cos_dlm_dc0_dlm_dc0\n",
       "20    authors_first_last_authors_first_last_jac_dlm_dc0_dlm_dc0\n",
       "21                    authors_first_last_authors_first_last_mel\n",
       "22               authors_first_last_authors_first_last_lev_dist\n",
       "23                authors_first_last_authors_first_last_lev_sim\n",
       "24                    authors_first_last_authors_first_last_nmw\n",
       "25                     authors_first_last_authors_first_last_sw\n",
       "26                                           authors_similarity\n",
       "27                                      first_author_similarity\n",
       "28                                              year_difference\n",
       "29                                                    bow_tfidf\n",
       "Name: feature_name, dtype: object"
      ]
     },
     "execution_count": 34,
     "metadata": {},
     "output_type": "execute_result"
    }
   ],
   "source": [
    "feature_meta_data.feature_name"
   ]
  },
  {
   "cell_type": "markdown",
   "id": "KTFYnavD_PXN",
   "metadata": {
    "id": "KTFYnavD_PXN"
   },
   "source": [
    "Extract the feature vectors... (it will takes 5-6 hours) "
   ]
  },
  {
   "cell_type": "code",
   "execution_count": null,
   "id": "z2YJnECCLQDw",
   "metadata": {
    "id": "z2YJnECCLQDw"
   },
   "outputs": [],
   "source": [
    "# Convert the I into a set of feature vectors using features meta data.\n",
    "feature_vectors = em.extract_feature_vecs(train_set, feature_table=F, attrs_after='gold_label')"
   ]
  },
  {
   "cell_type": "code",
   "execution_count": null,
   "id": "44O3D5q7yAva",
   "metadata": {
    "colab": {
     "base_uri": "https://localhost:8080/"
    },
    "id": "44O3D5q7yAva",
    "outputId": "bc898f31-17be-4fca-ef22-31ad532bc129"
   },
   "outputs": [
    {
     "data": {
      "text/plain": [
       "True"
      ]
     },
     "execution_count": 36,
     "metadata": {},
     "output_type": "execute_result"
    }
   ],
   "source": [
    "# Check if the feature vectors contain missing values\n",
    "# A return value of True means that there are missing values\n",
    "any(pd.notnull(feature_vectors))"
   ]
  },
  {
   "cell_type": "markdown",
   "id": "ifGCOaOnAWLU",
   "metadata": {
    "id": "ifGCOaOnAWLU"
   },
   "source": [
    "Populate (impute) missing features"
   ]
  },
  {
   "cell_type": "code",
   "execution_count": null,
   "id": "l3BE8b2SxqZz",
   "metadata": {
    "colab": {
     "base_uri": "https://localhost:8080/"
    },
    "id": "l3BE8b2SxqZz",
    "outputId": "58399609-2cd6-4fea-d973-a6cc7de6091b"
   },
   "outputs": [
    {
     "data": {
      "text/plain": [
       "True"
      ]
     },
     "execution_count": 37,
     "metadata": {},
     "output_type": "execute_result"
    }
   ],
   "source": [
    "# Impute feature vectors with the mean of the column values.\n",
    "em.set_key(feature_vectors, '_id') # key of the metadata\n",
    "em.set_fk_ltable(feature_vectors, 'ltable_id') #foreign key to left table\n",
    "em.set_fk_rtable(feature_vectors, 'rtable_id') #foreign key to right table\n",
    "em.set_ltable(feature_vectors, JOUR) #Sets the ltable for a DataFrame in the catalog\n",
    "em.set_rtable(feature_vectors, CONF) #Sets the rtable for a DataFrame in the catalog"
   ]
  },
  {
   "cell_type": "code",
   "execution_count": null,
   "id": "e1qBL2XAxqv_",
   "metadata": {
    "colab": {
     "base_uri": "https://localhost:8080/"
    },
    "id": "e1qBL2XAxqv_",
    "outputId": "89a63db7-6c0f-4f5c-81e8-69b4f6178ea2"
   },
   "outputs": [
    {
     "name": "stderr",
     "output_type": "stream",
     "text": [
      "/usr/local/lib/python3.7/dist-packages/py_entitymatching/matcher/matcherutils.py:224: FutureWarning: The pandas.np module is deprecated and will be removed from pandas in a future version. Import numpy directly instead\n",
      "  imp.statistics_[pd.np.isnan(imp.statistics_)] = val_all_nans\n"
     ]
    }
   ],
   "source": [
    "redudant_attrs = ['_id', 'ltable_'+JOUR_INDEX, 'rtable_'+CONF_INDEX, 'gold_label']\n",
    "feature_vectors = em.impute_table(\n",
    "    feature_vectors, \n",
    "    exclude_attrs=redudant_attrs, \n",
    "    missing_val=np.nan, \n",
    "    strategy='mean'\n",
    ")"
   ]
  },
  {
   "cell_type": "markdown",
   "id": "RnRBz0svAq-Y",
   "metadata": {
    "id": "RnRBz0svAq-Y"
   },
   "source": [
    "### 2.C. Train Matching Models\n",
    "\n",
    "We try 6 matching algorithms for paper matching:\n",
    "1. Decision Tree\n",
    "2. Support Vector Machine\n",
    "3. NaiveBayes\n",
    "4. Random Forest\n",
    "5. Logit regression\n",
    "6. Linear Regression\n"
   ]
  },
  {
   "cell_type": "code",
   "execution_count": null,
   "id": "RZSWfQ7ixUim",
   "metadata": {
    "id": "RZSWfQ7ixUim"
   },
   "outputs": [],
   "source": [
    "dt = em.DTMatcher(name='DecisionTree', random_state=0)\n",
    "svm = em.SVMMatcher(name='SVM', random_state=0)\n",
    "nb = em.SVMMatcher(name='NaiveBayes', random_state=0)\n",
    "rf = em.RFMatcher(name='RF', random_state=0)\n",
    "lg = em.LogRegMatcher(name='LogReg', random_state=0)\n",
    "ln = em.LinRegMatcher(name='LinReg')\n",
    "algos = [dt, rf, svm, nb, ln, lg]"
   ]
  },
  {
   "cell_type": "markdown",
   "id": "BqWxlju1BzDW",
   "metadata": {
    "id": "BqWxlju1BzDW"
   },
   "source": [
    "I select the best Machine Learning matcher based on average precision and average recall. In this study, I select the matcher that generates the highest the average recall score. This is because predicted pairs will be evaluated by an expert later to confirm that they are True Positive cases."
   ]
  },
  {
   "cell_type": "code",
   "execution_count": null,
   "id": "XpDdb9saxq1h",
   "metadata": {
    "colab": {
     "base_uri": "https://localhost:8080/",
     "height": 235
    },
    "id": "XpDdb9saxq1h",
    "outputId": "3b1dd295-189f-47cb-b2db-cecd9092f8d0"
   },
   "outputs": [
    {
     "data": {
      "text/html": [
       "<div>\n",
       "<style scoped>\n",
       "    .dataframe tbody tr th:only-of-type {\n",
       "        vertical-align: middle;\n",
       "    }\n",
       "\n",
       "    .dataframe tbody tr th {\n",
       "        vertical-align: top;\n",
       "    }\n",
       "\n",
       "    .dataframe thead th {\n",
       "        text-align: right;\n",
       "    }\n",
       "</style>\n",
       "<table border=\"1\" class=\"dataframe\">\n",
       "  <thead>\n",
       "    <tr style=\"text-align: right;\">\n",
       "      <th></th>\n",
       "      <th>Matcher</th>\n",
       "      <th>Average precision</th>\n",
       "      <th>Average recall</th>\n",
       "      <th>Average f1</th>\n",
       "    </tr>\n",
       "  </thead>\n",
       "  <tbody>\n",
       "    <tr>\n",
       "      <th>0</th>\n",
       "      <td>DecisionTree</td>\n",
       "      <td>0.682491</td>\n",
       "      <td>0.668705</td>\n",
       "      <td>0.673889</td>\n",
       "    </tr>\n",
       "    <tr>\n",
       "      <th>1</th>\n",
       "      <td>RF</td>\n",
       "      <td>0.806462</td>\n",
       "      <td>0.749547</td>\n",
       "      <td>0.776919</td>\n",
       "    </tr>\n",
       "    <tr>\n",
       "      <th>2</th>\n",
       "      <td>SVM</td>\n",
       "      <td>0.942802</td>\n",
       "      <td>0.282329</td>\n",
       "      <td>0.433170</td>\n",
       "    </tr>\n",
       "    <tr>\n",
       "      <th>3</th>\n",
       "      <td>NaiveBayes</td>\n",
       "      <td>0.942802</td>\n",
       "      <td>0.282329</td>\n",
       "      <td>0.433170</td>\n",
       "    </tr>\n",
       "    <tr>\n",
       "      <th>4</th>\n",
       "      <td>LinReg</td>\n",
       "      <td>0.860427</td>\n",
       "      <td>0.630679</td>\n",
       "      <td>0.727728</td>\n",
       "    </tr>\n",
       "    <tr>\n",
       "      <th>5</th>\n",
       "      <td>LogReg</td>\n",
       "      <td>0.766283</td>\n",
       "      <td>0.577069</td>\n",
       "      <td>0.657309</td>\n",
       "    </tr>\n",
       "  </tbody>\n",
       "</table>\n",
       "</div>"
      ],
      "text/plain": [
       "        Matcher  Average precision  Average recall  Average f1\n",
       "0  DecisionTree           0.682491        0.668705    0.673889\n",
       "1            RF           0.806462        0.749547    0.776919\n",
       "2           SVM           0.942802        0.282329    0.433170\n",
       "3    NaiveBayes           0.942802        0.282329    0.433170\n",
       "4        LinReg           0.860427        0.630679    0.727728\n",
       "5        LogReg           0.766283        0.577069    0.657309"
      ]
     },
     "execution_count": 40,
     "metadata": {},
     "output_type": "execute_result"
    }
   ],
   "source": [
    "# Select the best ML matcher using CV\n",
    "result = em.select_matcher(\n",
    "    algos, \n",
    "    table=feature_vectors, \n",
    "    exclude_attrs=redudant_attrs, \n",
    "    k=5, target_attr='gold_label', random_state=0)\n",
    "result['cv_stats']"
   ]
  },
  {
   "cell_type": "markdown",
   "id": "vFyuFIpaFZ89",
   "metadata": {
    "id": "vFyuFIpaFZ89"
   },
   "source": [
    "I select random forest matcher because it has the highest score of average recall"
   ]
  },
  {
   "cell_type": "code",
   "execution_count": null,
   "id": "SAW19JWAxrUu",
   "metadata": {
    "id": "SAW19JWAxrUu"
   },
   "outputs": [],
   "source": [
    "# Choose Random Forest to train\n",
    "rf.fit(table=feature_vectors, exclude_attrs=['_id', 'gold_label'], target_attr='gold_label')"
   ]
  },
  {
   "cell_type": "markdown",
   "id": "HySefw-y0eAb",
   "metadata": {
    "id": "HySefw-y0eAb"
   },
   "source": [
    "### 2.D. Evaluation"
   ]
  },
  {
   "cell_type": "code",
   "execution_count": null,
   "id": "lDV7W_4ixJzy",
   "metadata": {
    "colab": {
     "base_uri": "https://localhost:8080/"
    },
    "id": "lDV7W_4ixJzy",
    "outputId": "b72c8ce1-e9f1-47db-9d21-05dd1339570d"
   },
   "outputs": [
    {
     "name": "stderr",
     "output_type": "stream",
     "text": [
      "Metadata file is not present in the given path; proceeding to read the csv file.\n"
     ]
    },
    {
     "data": {
      "text/plain": [
       "_id                           int64\n",
       "ltable_id                     int64\n",
       "ltable_year                   int64\n",
       "ltable_bow                   object\n",
       "ltable_authors               object\n",
       "ltable_authors_first_last    object\n",
       "rtable_id                    object\n",
       "rtable_year                   int64\n",
       "rtable_bow                   object\n",
       "rtable_authors               object\n",
       "rtable_authors_first_last    object\n",
       "rtable_first_author_first    object\n",
       "rtable_first_author_last     object\n",
       "gold_label                    int64\n",
       "dtype: object"
      ]
     },
     "execution_count": 28,
     "metadata": {},
     "output_type": "execute_result"
    }
   ],
   "source": [
    "test_meta_data = em.read_csv_metadata(f\"{path_to_csv_dir}/testing_labeled_210607.csv\", key='_id',\n",
    "                                    ltable=JOUR, rtable=CONF,\n",
    "                                    fk_ltable='ltable_'+JOUR_INDEX, fk_rtable='rtable_'+CONF_INDEX)\n",
    "\n",
    "test_meta_data.dtypes"
   ]
  },
  {
   "cell_type": "code",
   "execution_count": null,
   "id": "I4gQcVIsemwq",
   "metadata": {
    "id": "I4gQcVIsemwq"
   },
   "outputs": [],
   "source": [
    "# Convert the J into a set of feature vectors using F\n",
    "test_feature_vectors = em.extract_feature_vecs(J, feature_table=F, attrs_after='gold_label')"
   ]
  },
  {
   "cell_type": "code",
   "execution_count": null,
   "id": "YF53ETZVUmrr",
   "metadata": {
    "colab": {
     "base_uri": "https://localhost:8080/"
    },
    "id": "YF53ETZVUmrr",
    "outputId": "e606afe0-ba01-424e-eef4-eccef1f949f4"
   },
   "outputs": [
    {
     "data": {
      "text/plain": [
       "True"
      ]
     },
     "execution_count": 27,
     "metadata": {},
     "output_type": "execute_result"
    }
   ],
   "source": [
    "# Impute feature vectors with the mean of the column values.\n",
    "em.set_key(test_feature_vectors, '_id') # key of the metadata\n",
    "em.set_fk_ltable(test_feature_vectors, 'ltable_id') #foreign key to left table\n",
    "em.set_fk_rtable(test_feature_vectors, 'rtable_id') #foreign key to right table\n",
    "em.set_ltable(test_feature_vectors, JOUR) #Sets the ltable for a DataFrame in the catalog\n",
    "em.set_rtable(test_feature_vectors, CONF) #Sets the rtable for a DataFrame in the catalog"
   ]
  },
  {
   "cell_type": "code",
   "execution_count": null,
   "id": "qCj6PTtK8Z4Z",
   "metadata": {
    "colab": {
     "base_uri": "https://localhost:8080/"
    },
    "id": "qCj6PTtK8Z4Z",
    "outputId": "7fb8c336-3e46-47ab-db5f-80e52f197c92"
   },
   "outputs": [
    {
     "name": "stderr",
     "output_type": "stream",
     "text": [
      "/usr/local/lib/python3.7/dist-packages/py_entitymatching/matcher/matcherutils.py:224: FutureWarning: The pandas.np module is deprecated and will be removed from pandas in a future version. Import numpy directly instead\n",
      "  imp.statistics_[pd.np.isnan(imp.statistics_)] = val_all_nans\n"
     ]
    }
   ],
   "source": [
    "test_feature_vectors = em.impute_table(test_feature_vectors, exclude_attrs=['_id', 'gold_label'], missing_val=np.nan, strategy='mean')"
   ]
  },
  {
   "cell_type": "code",
   "execution_count": null,
   "id": "Wzjoft5TenBP",
   "metadata": {
    "id": "Wzjoft5TenBP"
   },
   "outputs": [],
   "source": [
    "predictions = rf.predict(table=test_feature_vectors, exclude_attrs=['_id',  'gold_label'], append=True, target_attr='predicted', inplace=False)\n",
    "predictions.to_csv(f\"{path_to_csv_dir}/predictions_210607.csv\", index=False)"
   ]
  },
  {
   "cell_type": "code",
   "execution_count": null,
   "id": "jtsAxCqbenSK",
   "metadata": {
    "colab": {
     "base_uri": "https://localhost:8080/"
    },
    "id": "jtsAxCqbenSK",
    "outputId": "1686c873-1762-4c48-cdb5-e821522a5344"
   },
   "outputs": [
    {
     "name": "stdout",
     "output_type": "stream",
     "text": [
      "Precision : 82.11% (101/123)\n",
      "Recall : 77.69% (101/130)\n",
      "F1 : 79.84%\n",
      "False positives : 22 (out of 123 positive predictions)\n",
      "False negatives : 29 (out of 1816 negative predictions)\n"
     ]
    }
   ],
   "source": [
    "eval_summary = em.eval_matches(predictions, 'gold_label', 'predicted')\n",
    "em.print_eval_summary(eval_summary)"
   ]
  },
  {
   "cell_type": "code",
   "execution_count": null,
   "id": "qx5zp7HDV6Zf",
   "metadata": {
    "colab": {
     "base_uri": "https://localhost:8080/",
     "height": 224
    },
    "id": "qx5zp7HDV6Zf",
    "outputId": "cee56c02-383d-4359-f67a-0cfcce9e2cac"
   },
   "outputs": [
    {
     "data": {
      "text/html": [
       "<div>\n",
       "<style scoped>\n",
       "    .dataframe tbody tr th:only-of-type {\n",
       "        vertical-align: middle;\n",
       "    }\n",
       "\n",
       "    .dataframe tbody tr th {\n",
       "        vertical-align: top;\n",
       "    }\n",
       "\n",
       "    .dataframe thead th {\n",
       "        text-align: right;\n",
       "    }\n",
       "</style>\n",
       "<table border=\"1\" class=\"dataframe\">\n",
       "  <thead>\n",
       "    <tr style=\"text-align: right;\">\n",
       "      <th></th>\n",
       "      <th>_id</th>\n",
       "      <th>ltable_id</th>\n",
       "      <th>rtable_id</th>\n",
       "      <th>year_year_exm</th>\n",
       "      <th>year_year_anm</th>\n",
       "      <th>year_year_lev_dist</th>\n",
       "      <th>year_year_lev_sim</th>\n",
       "      <th>bow_bow_lev_dist</th>\n",
       "      <th>bow_bow_lev_sim</th>\n",
       "      <th>bow_bow_jar</th>\n",
       "      <th>bow_bow_jwn</th>\n",
       "      <th>bow_bow_exm</th>\n",
       "      <th>bow_bow_jac_qgm_3_qgm_3</th>\n",
       "      <th>authors_authors_jac_qgm_3_qgm_3</th>\n",
       "      <th>authors_authors_cos_dlm_dc0_dlm_dc0</th>\n",
       "      <th>authors_authors_jac_dlm_dc0_dlm_dc0</th>\n",
       "      <th>authors_authors_mel</th>\n",
       "      <th>authors_authors_lev_dist</th>\n",
       "      <th>authors_authors_lev_sim</th>\n",
       "      <th>authors_authors_nmw</th>\n",
       "      <th>authors_authors_sw</th>\n",
       "      <th>authors_first_last_authors_first_last_jac_qgm_3_qgm_3</th>\n",
       "      <th>authors_first_last_authors_first_last_cos_dlm_dc0_dlm_dc0</th>\n",
       "      <th>authors_first_last_authors_first_last_jac_dlm_dc0_dlm_dc0</th>\n",
       "      <th>authors_first_last_authors_first_last_mel</th>\n",
       "      <th>authors_first_last_authors_first_last_lev_dist</th>\n",
       "      <th>authors_first_last_authors_first_last_lev_sim</th>\n",
       "      <th>authors_first_last_authors_first_last_nmw</th>\n",
       "      <th>authors_first_last_authors_first_last_sw</th>\n",
       "      <th>authors_similarity</th>\n",
       "      <th>first_author_similarity</th>\n",
       "      <th>year_difference</th>\n",
       "      <th>bow_tfidf</th>\n",
       "      <th>gold_label</th>\n",
       "    </tr>\n",
       "  </thead>\n",
       "  <tbody>\n",
       "    <tr>\n",
       "      <th>0</th>\n",
       "      <td>0</td>\n",
       "      <td>13031.0</td>\n",
       "      <td>20049113.0</td>\n",
       "      <td>0.0</td>\n",
       "      <td>0.999501</td>\n",
       "      <td>1.0</td>\n",
       "      <td>0.75</td>\n",
       "      <td>904.0</td>\n",
       "      <td>0.303544</td>\n",
       "      <td>0.734995</td>\n",
       "      <td>0.734995</td>\n",
       "      <td>0.0</td>\n",
       "      <td>0.277019</td>\n",
       "      <td>1.000000</td>\n",
       "      <td>1.000000</td>\n",
       "      <td>1.000000</td>\n",
       "      <td>1.000000</td>\n",
       "      <td>0.0</td>\n",
       "      <td>1.000000</td>\n",
       "      <td>33.0</td>\n",
       "      <td>33.0</td>\n",
       "      <td>1.000000</td>\n",
       "      <td>1.000000</td>\n",
       "      <td>1.0</td>\n",
       "      <td>1.000000</td>\n",
       "      <td>0.0</td>\n",
       "      <td>1.000000</td>\n",
       "      <td>31.0</td>\n",
       "      <td>31.0</td>\n",
       "      <td>15.0</td>\n",
       "      <td>-0.5</td>\n",
       "      <td>1.0</td>\n",
       "      <td>0.000000</td>\n",
       "      <td>0</td>\n",
       "    </tr>\n",
       "    <tr>\n",
       "      <th>1</th>\n",
       "      <td>1</td>\n",
       "      <td>14362.0</td>\n",
       "      <td>201218113.0</td>\n",
       "      <td>0.0</td>\n",
       "      <td>0.999503</td>\n",
       "      <td>1.0</td>\n",
       "      <td>0.75</td>\n",
       "      <td>990.0</td>\n",
       "      <td>0.281567</td>\n",
       "      <td>0.690533</td>\n",
       "      <td>0.690533</td>\n",
       "      <td>0.0</td>\n",
       "      <td>0.233796</td>\n",
       "      <td>0.025974</td>\n",
       "      <td>0.000000</td>\n",
       "      <td>0.000000</td>\n",
       "      <td>0.544786</td>\n",
       "      <td>35.0</td>\n",
       "      <td>0.125000</td>\n",
       "      <td>1.0</td>\n",
       "      <td>4.0</td>\n",
       "      <td>0.031250</td>\n",
       "      <td>0.000000</td>\n",
       "      <td>0.0</td>\n",
       "      <td>0.481332</td>\n",
       "      <td>30.0</td>\n",
       "      <td>0.210526</td>\n",
       "      <td>-4.0</td>\n",
       "      <td>4.0</td>\n",
       "      <td>-1.0</td>\n",
       "      <td>-1.0</td>\n",
       "      <td>1.0</td>\n",
       "      <td>0.000085</td>\n",
       "      <td>0</td>\n",
       "    </tr>\n",
       "    <tr>\n",
       "      <th>2</th>\n",
       "      <td>2</td>\n",
       "      <td>18612.0</td>\n",
       "      <td>201115511.0</td>\n",
       "      <td>0.0</td>\n",
       "      <td>0.997025</td>\n",
       "      <td>1.0</td>\n",
       "      <td>0.75</td>\n",
       "      <td>1134.0</td>\n",
       "      <td>0.273077</td>\n",
       "      <td>0.705764</td>\n",
       "      <td>0.735188</td>\n",
       "      <td>0.0</td>\n",
       "      <td>0.236811</td>\n",
       "      <td>0.052632</td>\n",
       "      <td>0.000000</td>\n",
       "      <td>0.000000</td>\n",
       "      <td>0.597098</td>\n",
       "      <td>34.0</td>\n",
       "      <td>0.170732</td>\n",
       "      <td>2.0</td>\n",
       "      <td>7.0</td>\n",
       "      <td>0.060606</td>\n",
       "      <td>0.000000</td>\n",
       "      <td>0.0</td>\n",
       "      <td>0.543474</td>\n",
       "      <td>30.0</td>\n",
       "      <td>0.117647</td>\n",
       "      <td>2.0</td>\n",
       "      <td>7.0</td>\n",
       "      <td>0.5</td>\n",
       "      <td>-1.0</td>\n",
       "      <td>6.0</td>\n",
       "      <td>0.000000</td>\n",
       "      <td>0</td>\n",
       "    </tr>\n",
       "    <tr>\n",
       "      <th>3</th>\n",
       "      <td>3</td>\n",
       "      <td>9287.0</td>\n",
       "      <td>201013981.0</td>\n",
       "      <td>0.0</td>\n",
       "      <td>0.999503</td>\n",
       "      <td>1.0</td>\n",
       "      <td>0.75</td>\n",
       "      <td>544.0</td>\n",
       "      <td>0.250689</td>\n",
       "      <td>0.765874</td>\n",
       "      <td>0.765874</td>\n",
       "      <td>0.0</td>\n",
       "      <td>0.286392</td>\n",
       "      <td>0.333333</td>\n",
       "      <td>0.288675</td>\n",
       "      <td>0.166667</td>\n",
       "      <td>0.458333</td>\n",
       "      <td>18.0</td>\n",
       "      <td>0.437500</td>\n",
       "      <td>-3.0</td>\n",
       "      <td>15.0</td>\n",
       "      <td>0.305556</td>\n",
       "      <td>0.333333</td>\n",
       "      <td>0.2</td>\n",
       "      <td>0.574603</td>\n",
       "      <td>19.0</td>\n",
       "      <td>0.321429</td>\n",
       "      <td>-4.0</td>\n",
       "      <td>9.0</td>\n",
       "      <td>9.0</td>\n",
       "      <td>-1.0</td>\n",
       "      <td>1.0</td>\n",
       "      <td>0.785191</td>\n",
       "      <td>0</td>\n",
       "    </tr>\n",
       "    <tr>\n",
       "      <th>4</th>\n",
       "      <td>4</td>\n",
       "      <td>1140.0</td>\n",
       "      <td>200710301.0</td>\n",
       "      <td>0.0</td>\n",
       "      <td>0.999004</td>\n",
       "      <td>1.0</td>\n",
       "      <td>0.75</td>\n",
       "      <td>1003.0</td>\n",
       "      <td>0.324579</td>\n",
       "      <td>0.785146</td>\n",
       "      <td>0.785146</td>\n",
       "      <td>0.0</td>\n",
       "      <td>0.511442</td>\n",
       "      <td>1.000000</td>\n",
       "      <td>1.000000</td>\n",
       "      <td>1.000000</td>\n",
       "      <td>1.000000</td>\n",
       "      <td>0.0</td>\n",
       "      <td>1.000000</td>\n",
       "      <td>27.0</td>\n",
       "      <td>27.0</td>\n",
       "      <td>1.000000</td>\n",
       "      <td>1.000000</td>\n",
       "      <td>1.0</td>\n",
       "      <td>1.000000</td>\n",
       "      <td>0.0</td>\n",
       "      <td>1.000000</td>\n",
       "      <td>25.0</td>\n",
       "      <td>25.0</td>\n",
       "      <td>12.0</td>\n",
       "      <td>-1.0</td>\n",
       "      <td>2.0</td>\n",
       "      <td>0.145806</td>\n",
       "      <td>1</td>\n",
       "    </tr>\n",
       "  </tbody>\n",
       "</table>\n",
       "</div>"
      ],
      "text/plain": [
       "   _id  ltable_id    rtable_id  ...  year_difference  bow_tfidf  gold_label\n",
       "0    0    13031.0   20049113.0  ...              1.0   0.000000           0\n",
       "1    1    14362.0  201218113.0  ...              1.0   0.000085           0\n",
       "2    2    18612.0  201115511.0  ...              6.0   0.000000           0\n",
       "3    3     9287.0  201013981.0  ...              1.0   0.785191           0\n",
       "4    4     1140.0  200710301.0  ...              2.0   0.145806           1\n",
       "\n",
       "[5 rows x 34 columns]"
      ]
     },
     "execution_count": 32,
     "metadata": {},
     "output_type": "execute_result"
    }
   ],
   "source": [
    "test_feature_vectors.head()"
   ]
  },
  {
   "cell_type": "markdown",
   "id": "GWouz_jXhFsN",
   "metadata": {
    "id": "GWouz_jXhFsN"
   },
   "source": [
    "## 3 - ACTUAL MATCHING"
   ]
  },
  {
   "cell_type": "code",
   "execution_count": null,
   "id": "LP0ZSkM1XXhw",
   "metadata": {
    "colab": {
     "base_uri": "https://localhost:8080/"
    },
    "id": "LP0ZSkM1XXhw",
    "outputId": "bf503c44-4297-493a-8fe2-edf627d2889f"
   },
   "outputs": [
    {
     "name": "stderr",
     "output_type": "stream",
     "text": [
      "Metadata file is not present in the given path; proceeding to read the csv file.\n"
     ]
    },
    {
     "name": "stdout",
     "output_type": "stream",
     "text": [
      "RangeIndex(start=0, stop=31285, step=1)\n"
     ]
    }
   ],
   "source": [
    "L = em.read_csv_metadata(f\"{path_to_csv_dir}/paper_pairs_jour_conf_to_predict_210612.csv\", key='_id', ltable=JOUR, rtable=CONF,\n",
    "                                    fk_ltable='ltable_'+JOUR_INDEX, fk_rtable='rtable_'+CONF_INDEX)\n",
    "print(L.index)\n",
    "for i in range(1,63):\n",
    "  idx_start = (i-1)*500\n",
    "  idx_end = idx_start + 499\n",
    "  # print(idx_start, idx_end)\n",
    "  L.loc[idx_start:idx_end].to_csv(f\"{path_to_csv_dir}/L/L{i}_210612.csv\", index=0)\n",
    "L.loc[31000:31285].to_csv(f\"{path_to_csv_dir}/L/L63_210612.csv\", index=0)"
   ]
  },
  {
   "cell_type": "code",
   "execution_count": null,
   "id": "9cWClBGKhZBL",
   "metadata": {
    "colab": {
     "base_uri": "https://localhost:8080/",
     "height": 237
    },
    "id": "9cWClBGKhZBL",
    "outputId": "17591a29-0194-4d6f-e04d-bb5454275856"
   },
   "outputs": [
    {
     "name": "stdout",
     "output_type": "stream",
     "text": [
      "31285\n"
     ]
    },
    {
     "data": {
      "text/html": [
       "<div>\n",
       "<style scoped>\n",
       "    .dataframe tbody tr th:only-of-type {\n",
       "        vertical-align: middle;\n",
       "    }\n",
       "\n",
       "    .dataframe tbody tr th {\n",
       "        vertical-align: top;\n",
       "    }\n",
       "\n",
       "    .dataframe thead th {\n",
       "        text-align: right;\n",
       "    }\n",
       "</style>\n",
       "<table border=\"1\" class=\"dataframe\">\n",
       "  <thead>\n",
       "    <tr style=\"text-align: right;\">\n",
       "      <th></th>\n",
       "      <th>_id</th>\n",
       "      <th>ltable_id</th>\n",
       "      <th>rtable_id</th>\n",
       "      <th>year_year_exm</th>\n",
       "      <th>year_year_anm</th>\n",
       "      <th>year_year_lev_dist</th>\n",
       "      <th>year_year_lev_sim</th>\n",
       "      <th>bow_bow_lev_dist</th>\n",
       "      <th>bow_bow_lev_sim</th>\n",
       "      <th>bow_bow_jar</th>\n",
       "      <th>bow_bow_jwn</th>\n",
       "      <th>bow_bow_exm</th>\n",
       "      <th>bow_bow_jac_qgm_3_qgm_3</th>\n",
       "      <th>authors_authors_jac_qgm_3_qgm_3</th>\n",
       "      <th>authors_authors_cos_dlm_dc0_dlm_dc0</th>\n",
       "      <th>authors_authors_jac_dlm_dc0_dlm_dc0</th>\n",
       "      <th>authors_authors_mel</th>\n",
       "      <th>authors_authors_lev_dist</th>\n",
       "      <th>authors_authors_lev_sim</th>\n",
       "      <th>authors_authors_nmw</th>\n",
       "      <th>authors_authors_sw</th>\n",
       "      <th>authors_first_last_authors_first_last_jac_qgm_3_qgm_3</th>\n",
       "      <th>authors_first_last_authors_first_last_cos_dlm_dc0_dlm_dc0</th>\n",
       "      <th>authors_first_last_authors_first_last_jac_dlm_dc0_dlm_dc0</th>\n",
       "      <th>authors_first_last_authors_first_last_mel</th>\n",
       "      <th>authors_first_last_authors_first_last_lev_dist</th>\n",
       "      <th>authors_first_last_authors_first_last_lev_sim</th>\n",
       "      <th>authors_first_last_authors_first_last_nmw</th>\n",
       "      <th>authors_first_last_authors_first_last_sw</th>\n",
       "      <th>authors_similarity</th>\n",
       "      <th>first_author_similarity</th>\n",
       "      <th>year_difference</th>\n",
       "      <th>bow_tfidf</th>\n",
       "    </tr>\n",
       "  </thead>\n",
       "  <tbody>\n",
       "    <tr>\n",
       "      <th>0</th>\n",
       "      <td>0</td>\n",
       "      <td>9440</td>\n",
       "      <td>2001_1001_5</td>\n",
       "      <td>0</td>\n",
       "      <td>0.993052</td>\n",
       "      <td>2.0</td>\n",
       "      <td>0.50</td>\n",
       "      <td>1020</td>\n",
       "      <td>0.315895</td>\n",
       "      <td>0.724455</td>\n",
       "      <td>0.724455</td>\n",
       "      <td>0</td>\n",
       "      <td>0.298469</td>\n",
       "      <td>0.287671</td>\n",
       "      <td>0.223607</td>\n",
       "      <td>0.125000</td>\n",
       "      <td>0.842564</td>\n",
       "      <td>26.0</td>\n",
       "      <td>0.500000</td>\n",
       "      <td>13.0</td>\n",
       "      <td>20.0</td>\n",
       "      <td>0.279412</td>\n",
       "      <td>0.250000</td>\n",
       "      <td>0.142857</td>\n",
       "      <td>0.841115</td>\n",
       "      <td>24.0</td>\n",
       "      <td>0.478261</td>\n",
       "      <td>13.0</td>\n",
       "      <td>20.0</td>\n",
       "      <td>9.500000</td>\n",
       "      <td>0.0</td>\n",
       "      <td>14</td>\n",
       "      <td>1.000000</td>\n",
       "    </tr>\n",
       "    <tr>\n",
       "      <th>1</th>\n",
       "      <td>1</td>\n",
       "      <td>9285</td>\n",
       "      <td>2001_1001_5</td>\n",
       "      <td>0</td>\n",
       "      <td>0.995522</td>\n",
       "      <td>2.0</td>\n",
       "      <td>0.50</td>\n",
       "      <td>755</td>\n",
       "      <td>0.248008</td>\n",
       "      <td>0.773021</td>\n",
       "      <td>0.773021</td>\n",
       "      <td>0</td>\n",
       "      <td>0.291304</td>\n",
       "      <td>0.339286</td>\n",
       "      <td>0.316228</td>\n",
       "      <td>0.166667</td>\n",
       "      <td>0.873077</td>\n",
       "      <td>33.0</td>\n",
       "      <td>0.365385</td>\n",
       "      <td>-14.0</td>\n",
       "      <td>19.0</td>\n",
       "      <td>0.360000</td>\n",
       "      <td>0.353553</td>\n",
       "      <td>0.200000</td>\n",
       "      <td>0.878261</td>\n",
       "      <td>28.0</td>\n",
       "      <td>0.391304</td>\n",
       "      <td>-10.0</td>\n",
       "      <td>18.0</td>\n",
       "      <td>18.000000</td>\n",
       "      <td>0.0</td>\n",
       "      <td>9</td>\n",
       "      <td>0.193163</td>\n",
       "    </tr>\n",
       "    <tr>\n",
       "      <th>2</th>\n",
       "      <td>2</td>\n",
       "      <td>5999</td>\n",
       "      <td>2001_1001_5</td>\n",
       "      <td>0</td>\n",
       "      <td>0.996514</td>\n",
       "      <td>1.0</td>\n",
       "      <td>0.75</td>\n",
       "      <td>710</td>\n",
       "      <td>0.292829</td>\n",
       "      <td>0.739999</td>\n",
       "      <td>0.739999</td>\n",
       "      <td>0</td>\n",
       "      <td>0.239354</td>\n",
       "      <td>0.223684</td>\n",
       "      <td>0.000000</td>\n",
       "      <td>0.000000</td>\n",
       "      <td>0.567568</td>\n",
       "      <td>44.0</td>\n",
       "      <td>0.153846</td>\n",
       "      <td>-7.0</td>\n",
       "      <td>19.0</td>\n",
       "      <td>0.231884</td>\n",
       "      <td>0.000000</td>\n",
       "      <td>0.000000</td>\n",
       "      <td>0.583040</td>\n",
       "      <td>39.0</td>\n",
       "      <td>0.152174</td>\n",
       "      <td>-4.0</td>\n",
       "      <td>18.0</td>\n",
       "      <td>8.500000</td>\n",
       "      <td>0.0</td>\n",
       "      <td>7</td>\n",
       "      <td>1.000000</td>\n",
       "    </tr>\n",
       "    <tr>\n",
       "      <th>3</th>\n",
       "      <td>3</td>\n",
       "      <td>955</td>\n",
       "      <td>2001_1001_5</td>\n",
       "      <td>0</td>\n",
       "      <td>0.997507</td>\n",
       "      <td>1.0</td>\n",
       "      <td>0.75</td>\n",
       "      <td>833</td>\n",
       "      <td>0.287425</td>\n",
       "      <td>0.779567</td>\n",
       "      <td>0.779567</td>\n",
       "      <td>0</td>\n",
       "      <td>0.309840</td>\n",
       "      <td>1.000000</td>\n",
       "      <td>1.000000</td>\n",
       "      <td>1.000000</td>\n",
       "      <td>1.000000</td>\n",
       "      <td>0.0</td>\n",
       "      <td>1.000000</td>\n",
       "      <td>52.0</td>\n",
       "      <td>52.0</td>\n",
       "      <td>0.903846</td>\n",
       "      <td>0.894427</td>\n",
       "      <td>0.800000</td>\n",
       "      <td>0.987755</td>\n",
       "      <td>3.0</td>\n",
       "      <td>0.938776</td>\n",
       "      <td>43.0</td>\n",
       "      <td>43.0</td>\n",
       "      <td>13.666667</td>\n",
       "      <td>0.0</td>\n",
       "      <td>5</td>\n",
       "      <td>0.000056</td>\n",
       "    </tr>\n",
       "    <tr>\n",
       "      <th>4</th>\n",
       "      <td>4</td>\n",
       "      <td>6398</td>\n",
       "      <td>2001_1001_5</td>\n",
       "      <td>0</td>\n",
       "      <td>0.998005</td>\n",
       "      <td>1.0</td>\n",
       "      <td>0.75</td>\n",
       "      <td>722</td>\n",
       "      <td>0.280876</td>\n",
       "      <td>0.765160</td>\n",
       "      <td>0.765160</td>\n",
       "      <td>0</td>\n",
       "      <td>0.290323</td>\n",
       "      <td>0.466667</td>\n",
       "      <td>0.000000</td>\n",
       "      <td>0.000000</td>\n",
       "      <td>0.725962</td>\n",
       "      <td>37.0</td>\n",
       "      <td>0.288462</td>\n",
       "      <td>-6.0</td>\n",
       "      <td>19.0</td>\n",
       "      <td>0.481481</td>\n",
       "      <td>0.000000</td>\n",
       "      <td>0.000000</td>\n",
       "      <td>0.717391</td>\n",
       "      <td>34.0</td>\n",
       "      <td>0.260870</td>\n",
       "      <td>-7.0</td>\n",
       "      <td>18.0</td>\n",
       "      <td>14.500000</td>\n",
       "      <td>0.0</td>\n",
       "      <td>4</td>\n",
       "      <td>0.084176</td>\n",
       "    </tr>\n",
       "  </tbody>\n",
       "</table>\n",
       "</div>"
      ],
      "text/plain": [
       "   _id  ltable_id  ... year_difference  bow_tfidf\n",
       "0    0       9440  ...              14   1.000000\n",
       "1    1       9285  ...               9   0.193163\n",
       "2    2       5999  ...               7   1.000000\n",
       "3    3        955  ...               5   0.000056\n",
       "4    4       6398  ...               4   0.084176\n",
       "\n",
       "[5 rows x 33 columns]"
      ]
     },
     "execution_count": 29,
     "metadata": {
      "tags": []
     },
     "output_type": "execute_result"
    }
   ],
   "source": [
    "M = pd.DataFrame()\n",
    "for i in range(1, 64):\n",
    "  L = em.read_csv_metadata(f\"{path_to_csv_dir}/L/L{i}_210612.csv\", key='_id', ltable=JOUR, rtable=CONF, \n",
    "                           fk_ltable='ltable_'+JOUR_INDEX, fk_rtable='rtable_'+CONF_INDEX) \n",
    "  M = em.extract_feature_vecs(L, feature_table=F)\n",
    "  M = M.append(data)\n",
    "print(M.shape[0])\n",
    "M.head()"
   ]
  },
  {
   "cell_type": "code",
   "execution_count": null,
   "id": "QOygiUrZhaxZ",
   "metadata": {
    "colab": {
     "base_uri": "https://localhost:8080/"
    },
    "id": "QOygiUrZhaxZ",
    "outputId": "29a3e158-9528-4e05-96e3-19ff2a1936e7"
   },
   "outputs": [
    {
     "data": {
      "text/plain": [
       "True"
      ]
     },
     "execution_count": 30,
     "metadata": {
      "tags": []
     },
     "output_type": "execute_result"
    }
   ],
   "source": [
    "# Impute feature vectors with the mean of the column values.\n",
    "em.set_key(M, '_id') # key of the metadata\n",
    "em.set_fk_ltable(M, 'ltable_id') #foreign key to left table\n",
    "em.set_fk_rtable(M, 'rtable_id') #foreign key to right table\n",
    "em.set_ltable(M, JOUR) #Sets the ltable for a DataFrame in the catalog\n",
    "em.set_rtable(M, CONF) #Sets the rtable for a DataFrame in the catalog"
   ]
  },
  {
   "cell_type": "code",
   "execution_count": null,
   "id": "C0FwrthhhbS3",
   "metadata": {
    "colab": {
     "base_uri": "https://localhost:8080/"
    },
    "id": "C0FwrthhhbS3",
    "outputId": "e96ee599-f085-47a3-de04-24fcf43710f2"
   },
   "outputs": [
    {
     "name": "stderr",
     "output_type": "stream",
     "text": [
      "/usr/local/lib/python3.7/dist-packages/py_entitymatching/matcher/matcherutils.py:224: FutureWarning: The pandas.np module is deprecated and will be removed from pandas in a future version. Import numpy directly instead\n",
      "  imp.statistics_[pd.np.isnan(imp.statistics_)] = val_all_nans\n"
     ]
    }
   ],
   "source": [
    "N = em.impute_table(M, exclude_attrs=['_id'], missing_val=np.nan, strategy='mean')"
   ]
  },
  {
   "cell_type": "code",
   "execution_count": null,
   "id": "yYwbzglqcQio",
   "metadata": {
    "id": "yYwbzglqcQio"
   },
   "outputs": [],
   "source": [
    "predictions = rf.predict(table=N, exclude_attrs=['_id'], append=True, target_attr='predicted', inplace=False)\n",
    "predictions.to_csv(f\"{path_to_csv_dir}/predictions_actual_matching_210607.csv\", index=False)"
   ]
  },
  {
   "cell_type": "code",
   "execution_count": null,
   "id": "bIavZJpldViJ",
   "metadata": {
    "colab": {
     "base_uri": "https://localhost:8080/",
     "height": 221
    },
    "id": "bIavZJpldViJ",
    "outputId": "31169edf-2c9b-41e7-f0db-9c36cb28d52a"
   },
   "outputs": [
    {
     "data": {
      "text/html": [
       "<div>\n",
       "<style scoped>\n",
       "    .dataframe tbody tr th:only-of-type {\n",
       "        vertical-align: middle;\n",
       "    }\n",
       "\n",
       "    .dataframe tbody tr th {\n",
       "        vertical-align: top;\n",
       "    }\n",
       "\n",
       "    .dataframe thead th {\n",
       "        text-align: right;\n",
       "    }\n",
       "</style>\n",
       "<table border=\"1\" class=\"dataframe\">\n",
       "  <thead>\n",
       "    <tr style=\"text-align: right;\">\n",
       "      <th></th>\n",
       "      <th>_id</th>\n",
       "      <th>ltable_id</th>\n",
       "      <th>rtable_id</th>\n",
       "      <th>year_year_exm</th>\n",
       "      <th>year_year_anm</th>\n",
       "      <th>year_year_lev_dist</th>\n",
       "      <th>year_year_lev_sim</th>\n",
       "      <th>bow_bow_lev_dist</th>\n",
       "      <th>bow_bow_lev_sim</th>\n",
       "      <th>bow_bow_jar</th>\n",
       "      <th>bow_bow_jwn</th>\n",
       "      <th>bow_bow_exm</th>\n",
       "      <th>bow_bow_jac_qgm_3_qgm_3</th>\n",
       "      <th>authors_authors_jac_qgm_3_qgm_3</th>\n",
       "      <th>authors_authors_cos_dlm_dc0_dlm_dc0</th>\n",
       "      <th>authors_authors_jac_dlm_dc0_dlm_dc0</th>\n",
       "      <th>authors_authors_mel</th>\n",
       "      <th>authors_authors_lev_dist</th>\n",
       "      <th>authors_authors_lev_sim</th>\n",
       "      <th>authors_authors_nmw</th>\n",
       "      <th>authors_authors_sw</th>\n",
       "      <th>authors_first_last_authors_first_last_jac_qgm_3_qgm_3</th>\n",
       "      <th>authors_first_last_authors_first_last_cos_dlm_dc0_dlm_dc0</th>\n",
       "      <th>authors_first_last_authors_first_last_jac_dlm_dc0_dlm_dc0</th>\n",
       "      <th>authors_first_last_authors_first_last_mel</th>\n",
       "      <th>authors_first_last_authors_first_last_lev_dist</th>\n",
       "      <th>authors_first_last_authors_first_last_lev_sim</th>\n",
       "      <th>authors_first_last_authors_first_last_nmw</th>\n",
       "      <th>authors_first_last_authors_first_last_sw</th>\n",
       "      <th>authors_similarity</th>\n",
       "      <th>first_author_similarity</th>\n",
       "      <th>year_difference</th>\n",
       "      <th>bow_tfidf</th>\n",
       "      <th>predicted</th>\n",
       "    </tr>\n",
       "  </thead>\n",
       "  <tbody>\n",
       "    <tr>\n",
       "      <th>0</th>\n",
       "      <td>0</td>\n",
       "      <td>9440.0</td>\n",
       "      <td>200110015.0</td>\n",
       "      <td>0.0</td>\n",
       "      <td>0.993052</td>\n",
       "      <td>2.0</td>\n",
       "      <td>0.50</td>\n",
       "      <td>1020.0</td>\n",
       "      <td>0.315895</td>\n",
       "      <td>0.724455</td>\n",
       "      <td>0.724455</td>\n",
       "      <td>0.0</td>\n",
       "      <td>0.298469</td>\n",
       "      <td>0.287671</td>\n",
       "      <td>0.223607</td>\n",
       "      <td>0.125000</td>\n",
       "      <td>0.842564</td>\n",
       "      <td>26.0</td>\n",
       "      <td>0.500000</td>\n",
       "      <td>13.0</td>\n",
       "      <td>20.0</td>\n",
       "      <td>0.279412</td>\n",
       "      <td>0.250000</td>\n",
       "      <td>0.142857</td>\n",
       "      <td>0.841115</td>\n",
       "      <td>24.0</td>\n",
       "      <td>0.478261</td>\n",
       "      <td>13.0</td>\n",
       "      <td>20.0</td>\n",
       "      <td>9.500000</td>\n",
       "      <td>0.0</td>\n",
       "      <td>14.0</td>\n",
       "      <td>1.000000</td>\n",
       "      <td>0</td>\n",
       "    </tr>\n",
       "    <tr>\n",
       "      <th>1</th>\n",
       "      <td>1</td>\n",
       "      <td>9285.0</td>\n",
       "      <td>200110015.0</td>\n",
       "      <td>0.0</td>\n",
       "      <td>0.995522</td>\n",
       "      <td>2.0</td>\n",
       "      <td>0.50</td>\n",
       "      <td>755.0</td>\n",
       "      <td>0.248008</td>\n",
       "      <td>0.773021</td>\n",
       "      <td>0.773021</td>\n",
       "      <td>0.0</td>\n",
       "      <td>0.291304</td>\n",
       "      <td>0.339286</td>\n",
       "      <td>0.316228</td>\n",
       "      <td>0.166667</td>\n",
       "      <td>0.873077</td>\n",
       "      <td>33.0</td>\n",
       "      <td>0.365385</td>\n",
       "      <td>-14.0</td>\n",
       "      <td>19.0</td>\n",
       "      <td>0.360000</td>\n",
       "      <td>0.353553</td>\n",
       "      <td>0.200000</td>\n",
       "      <td>0.878261</td>\n",
       "      <td>28.0</td>\n",
       "      <td>0.391304</td>\n",
       "      <td>-10.0</td>\n",
       "      <td>18.0</td>\n",
       "      <td>18.000000</td>\n",
       "      <td>0.0</td>\n",
       "      <td>9.0</td>\n",
       "      <td>0.193163</td>\n",
       "      <td>0</td>\n",
       "    </tr>\n",
       "    <tr>\n",
       "      <th>2</th>\n",
       "      <td>2</td>\n",
       "      <td>5999.0</td>\n",
       "      <td>200110015.0</td>\n",
       "      <td>0.0</td>\n",
       "      <td>0.996514</td>\n",
       "      <td>1.0</td>\n",
       "      <td>0.75</td>\n",
       "      <td>710.0</td>\n",
       "      <td>0.292829</td>\n",
       "      <td>0.739999</td>\n",
       "      <td>0.739999</td>\n",
       "      <td>0.0</td>\n",
       "      <td>0.239354</td>\n",
       "      <td>0.223684</td>\n",
       "      <td>0.000000</td>\n",
       "      <td>0.000000</td>\n",
       "      <td>0.567568</td>\n",
       "      <td>44.0</td>\n",
       "      <td>0.153846</td>\n",
       "      <td>-7.0</td>\n",
       "      <td>19.0</td>\n",
       "      <td>0.231884</td>\n",
       "      <td>0.000000</td>\n",
       "      <td>0.000000</td>\n",
       "      <td>0.583040</td>\n",
       "      <td>39.0</td>\n",
       "      <td>0.152174</td>\n",
       "      <td>-4.0</td>\n",
       "      <td>18.0</td>\n",
       "      <td>8.500000</td>\n",
       "      <td>0.0</td>\n",
       "      <td>7.0</td>\n",
       "      <td>1.000000</td>\n",
       "      <td>0</td>\n",
       "    </tr>\n",
       "    <tr>\n",
       "      <th>3</th>\n",
       "      <td>3</td>\n",
       "      <td>955.0</td>\n",
       "      <td>200110015.0</td>\n",
       "      <td>0.0</td>\n",
       "      <td>0.997507</td>\n",
       "      <td>1.0</td>\n",
       "      <td>0.75</td>\n",
       "      <td>833.0</td>\n",
       "      <td>0.287425</td>\n",
       "      <td>0.779567</td>\n",
       "      <td>0.779567</td>\n",
       "      <td>0.0</td>\n",
       "      <td>0.309840</td>\n",
       "      <td>1.000000</td>\n",
       "      <td>1.000000</td>\n",
       "      <td>1.000000</td>\n",
       "      <td>1.000000</td>\n",
       "      <td>0.0</td>\n",
       "      <td>1.000000</td>\n",
       "      <td>52.0</td>\n",
       "      <td>52.0</td>\n",
       "      <td>0.903846</td>\n",
       "      <td>0.894427</td>\n",
       "      <td>0.800000</td>\n",
       "      <td>0.987755</td>\n",
       "      <td>3.0</td>\n",
       "      <td>0.938776</td>\n",
       "      <td>43.0</td>\n",
       "      <td>43.0</td>\n",
       "      <td>13.666667</td>\n",
       "      <td>0.0</td>\n",
       "      <td>5.0</td>\n",
       "      <td>0.000056</td>\n",
       "      <td>0</td>\n",
       "    </tr>\n",
       "    <tr>\n",
       "      <th>4</th>\n",
       "      <td>4</td>\n",
       "      <td>6398.0</td>\n",
       "      <td>200110015.0</td>\n",
       "      <td>0.0</td>\n",
       "      <td>0.998005</td>\n",
       "      <td>1.0</td>\n",
       "      <td>0.75</td>\n",
       "      <td>722.0</td>\n",
       "      <td>0.280876</td>\n",
       "      <td>0.765160</td>\n",
       "      <td>0.765160</td>\n",
       "      <td>0.0</td>\n",
       "      <td>0.290323</td>\n",
       "      <td>0.466667</td>\n",
       "      <td>0.000000</td>\n",
       "      <td>0.000000</td>\n",
       "      <td>0.725962</td>\n",
       "      <td>37.0</td>\n",
       "      <td>0.288462</td>\n",
       "      <td>-6.0</td>\n",
       "      <td>19.0</td>\n",
       "      <td>0.481481</td>\n",
       "      <td>0.000000</td>\n",
       "      <td>0.000000</td>\n",
       "      <td>0.717391</td>\n",
       "      <td>34.0</td>\n",
       "      <td>0.260870</td>\n",
       "      <td>-7.0</td>\n",
       "      <td>18.0</td>\n",
       "      <td>14.500000</td>\n",
       "      <td>0.0</td>\n",
       "      <td>4.0</td>\n",
       "      <td>0.084176</td>\n",
       "      <td>0</td>\n",
       "    </tr>\n",
       "  </tbody>\n",
       "</table>\n",
       "</div>"
      ],
      "text/plain": [
       "   _id  ltable_id    rtable_id  ...  year_difference  bow_tfidf  predicted\n",
       "0    0     9440.0  200110015.0  ...             14.0   1.000000          0\n",
       "1    1     9285.0  200110015.0  ...              9.0   0.193163          0\n",
       "2    2     5999.0  200110015.0  ...              7.0   1.000000          0\n",
       "3    3      955.0  200110015.0  ...              5.0   0.000056          0\n",
       "4    4     6398.0  200110015.0  ...              4.0   0.084176          0\n",
       "\n",
       "[5 rows x 34 columns]"
      ]
     },
     "execution_count": 33,
     "metadata": {
      "tags": []
     },
     "output_type": "execute_result"
    }
   ],
   "source": [
    "predictions.head()"
   ]
  },
  {
   "cell_type": "code",
   "execution_count": null,
   "id": "l_IvF8ztdXT2",
   "metadata": {
    "colab": {
     "base_uri": "https://localhost:8080/"
    },
    "id": "l_IvF8ztdXT2",
    "outputId": "6d3f0a89-91eb-46c4-f920-4fc60391995f"
   },
   "outputs": [
    {
     "data": {
      "text/plain": [
       "0    30106\n",
       "1     1179\n",
       "Name: predicted, dtype: int64"
      ]
     },
     "execution_count": 34,
     "metadata": {
      "tags": []
     },
     "output_type": "execute_result"
    }
   ],
   "source": [
    "predictions.predicted.value_counts()"
   ]
  },
  {
   "cell_type": "code",
   "execution_count": null,
   "id": "99WJQ1GYdcwE",
   "metadata": {
    "colab": {
     "base_uri": "https://localhost:8080/"
    },
    "id": "99WJQ1GYdcwE",
    "outputId": "cc09e4b2-8be6-4485-ccf5-b0666f813f7f"
   },
   "outputs": [
    {
     "data": {
      "text/plain": [
       "456"
      ]
     },
     "execution_count": 35,
     "metadata": {
      "tags": []
     },
     "output_type": "execute_result"
    }
   ],
   "source": [
    "prediction_pos = predictions[predictions.predicted==1][['_id']]\n",
    "pos_id = list(prediction_pos['_id'])\n",
    "# x = 332\n",
    "# x in pos_id\n",
    "data = M[M['_id'].isin(pos_id)]\n",
    "data = data.drop_duplicates(['ltable_id', 'rtable_id'])\n",
    "data.shape[0]"
   ]
  },
  {
   "cell_type": "code",
   "execution_count": null,
   "id": "adD9-jb3dy4I",
   "metadata": {
    "colab": {
     "base_uri": "https://localhost:8080/",
     "height": 221
    },
    "id": "adD9-jb3dy4I",
    "outputId": "d1ecf09e-85b8-45fc-8c49-759d7ef32d2c"
   },
   "outputs": [
    {
     "data": {
      "text/html": [
       "<div>\n",
       "<style scoped>\n",
       "    .dataframe tbody tr th:only-of-type {\n",
       "        vertical-align: middle;\n",
       "    }\n",
       "\n",
       "    .dataframe tbody tr th {\n",
       "        vertical-align: top;\n",
       "    }\n",
       "\n",
       "    .dataframe thead th {\n",
       "        text-align: right;\n",
       "    }\n",
       "</style>\n",
       "<table border=\"1\" class=\"dataframe\">\n",
       "  <thead>\n",
       "    <tr style=\"text-align: right;\">\n",
       "      <th></th>\n",
       "      <th>_id</th>\n",
       "      <th>ltable_id</th>\n",
       "      <th>rtable_id</th>\n",
       "      <th>year_year_exm</th>\n",
       "      <th>year_year_anm</th>\n",
       "      <th>year_year_lev_dist</th>\n",
       "      <th>year_year_lev_sim</th>\n",
       "      <th>bow_bow_lev_dist</th>\n",
       "      <th>bow_bow_lev_sim</th>\n",
       "      <th>bow_bow_jar</th>\n",
       "      <th>bow_bow_jwn</th>\n",
       "      <th>bow_bow_exm</th>\n",
       "      <th>bow_bow_jac_qgm_3_qgm_3</th>\n",
       "      <th>authors_authors_jac_qgm_3_qgm_3</th>\n",
       "      <th>authors_authors_cos_dlm_dc0_dlm_dc0</th>\n",
       "      <th>authors_authors_jac_dlm_dc0_dlm_dc0</th>\n",
       "      <th>authors_authors_mel</th>\n",
       "      <th>authors_authors_lev_dist</th>\n",
       "      <th>authors_authors_lev_sim</th>\n",
       "      <th>authors_authors_nmw</th>\n",
       "      <th>authors_authors_sw</th>\n",
       "      <th>authors_first_last_authors_first_last_jac_qgm_3_qgm_3</th>\n",
       "      <th>authors_first_last_authors_first_last_cos_dlm_dc0_dlm_dc0</th>\n",
       "      <th>authors_first_last_authors_first_last_jac_dlm_dc0_dlm_dc0</th>\n",
       "      <th>authors_first_last_authors_first_last_mel</th>\n",
       "      <th>authors_first_last_authors_first_last_lev_dist</th>\n",
       "      <th>authors_first_last_authors_first_last_lev_sim</th>\n",
       "      <th>authors_first_last_authors_first_last_nmw</th>\n",
       "      <th>authors_first_last_authors_first_last_sw</th>\n",
       "      <th>authors_similarity</th>\n",
       "      <th>first_author_similarity</th>\n",
       "      <th>year_difference</th>\n",
       "      <th>bow_tfidf</th>\n",
       "    </tr>\n",
       "  </thead>\n",
       "  <tbody>\n",
       "    <tr>\n",
       "      <th>214</th>\n",
       "      <td>332</td>\n",
       "      <td>18468</td>\n",
       "      <td>2001_1017_3</td>\n",
       "      <td>1</td>\n",
       "      <td>1.000000</td>\n",
       "      <td>0.0</td>\n",
       "      <td>1.00</td>\n",
       "      <td>1237</td>\n",
       "      <td>0.310864</td>\n",
       "      <td>0.736812</td>\n",
       "      <td>0.842087</td>\n",
       "      <td>0</td>\n",
       "      <td>0.363351</td>\n",
       "      <td>0.371795</td>\n",
       "      <td>0.353553</td>\n",
       "      <td>0.200000</td>\n",
       "      <td>0.848987</td>\n",
       "      <td>42.0</td>\n",
       "      <td>0.432432</td>\n",
       "      <td>-10.0</td>\n",
       "      <td>24.0</td>\n",
       "      <td>0.406250</td>\n",
       "      <td>0.447214</td>\n",
       "      <td>0.285714</td>\n",
       "      <td>0.861790</td>\n",
       "      <td>33.0</td>\n",
       "      <td>0.431034</td>\n",
       "      <td>-3.0</td>\n",
       "      <td>24.0</td>\n",
       "      <td>11.500000</td>\n",
       "      <td>2.0</td>\n",
       "      <td>0</td>\n",
       "      <td>0.215363</td>\n",
       "    </tr>\n",
       "    <tr>\n",
       "      <th>225</th>\n",
       "      <td>348</td>\n",
       "      <td>5441</td>\n",
       "      <td>2001_1018_3</td>\n",
       "      <td>0</td>\n",
       "      <td>0.997010</td>\n",
       "      <td>1.0</td>\n",
       "      <td>0.75</td>\n",
       "      <td>1155</td>\n",
       "      <td>0.312500</td>\n",
       "      <td>0.739044</td>\n",
       "      <td>0.739044</td>\n",
       "      <td>0</td>\n",
       "      <td>0.443418</td>\n",
       "      <td>0.783333</td>\n",
       "      <td>0.547723</td>\n",
       "      <td>0.375000</td>\n",
       "      <td>0.917113</td>\n",
       "      <td>6.0</td>\n",
       "      <td>0.892857</td>\n",
       "      <td>47.0</td>\n",
       "      <td>47.0</td>\n",
       "      <td>0.741379</td>\n",
       "      <td>0.612372</td>\n",
       "      <td>0.428571</td>\n",
       "      <td>0.889160</td>\n",
       "      <td>9.0</td>\n",
       "      <td>0.830189</td>\n",
       "      <td>37.0</td>\n",
       "      <td>37.0</td>\n",
       "      <td>11.833333</td>\n",
       "      <td>0.5</td>\n",
       "      <td>6</td>\n",
       "      <td>0.988601</td>\n",
       "    </tr>\n",
       "    <tr>\n",
       "      <th>378</th>\n",
       "      <td>621</td>\n",
       "      <td>19384</td>\n",
       "      <td>2001_1021_1</td>\n",
       "      <td>0</td>\n",
       "      <td>0.998005</td>\n",
       "      <td>1.0</td>\n",
       "      <td>0.75</td>\n",
       "      <td>710</td>\n",
       "      <td>0.323165</td>\n",
       "      <td>0.752832</td>\n",
       "      <td>0.752832</td>\n",
       "      <td>0</td>\n",
       "      <td>0.362984</td>\n",
       "      <td>1.000000</td>\n",
       "      <td>1.000000</td>\n",
       "      <td>1.000000</td>\n",
       "      <td>1.000000</td>\n",
       "      <td>0.0</td>\n",
       "      <td>1.000000</td>\n",
       "      <td>35.0</td>\n",
       "      <td>35.0</td>\n",
       "      <td>0.861111</td>\n",
       "      <td>0.866025</td>\n",
       "      <td>0.750000</td>\n",
       "      <td>0.981818</td>\n",
       "      <td>3.0</td>\n",
       "      <td>0.909091</td>\n",
       "      <td>27.0</td>\n",
       "      <td>27.0</td>\n",
       "      <td>13.000000</td>\n",
       "      <td>-1.0</td>\n",
       "      <td>4</td>\n",
       "      <td>1.000000</td>\n",
       "    </tr>\n",
       "    <tr>\n",
       "      <th>451</th>\n",
       "      <td>744</td>\n",
       "      <td>9930</td>\n",
       "      <td>2001_1026_2</td>\n",
       "      <td>0</td>\n",
       "      <td>0.998005</td>\n",
       "      <td>1.0</td>\n",
       "      <td>0.75</td>\n",
       "      <td>484</td>\n",
       "      <td>0.486744</td>\n",
       "      <td>0.778920</td>\n",
       "      <td>0.778920</td>\n",
       "      <td>0</td>\n",
       "      <td>0.505976</td>\n",
       "      <td>0.886364</td>\n",
       "      <td>0.800000</td>\n",
       "      <td>0.666667</td>\n",
       "      <td>0.948846</td>\n",
       "      <td>1.0</td>\n",
       "      <td>0.975000</td>\n",
       "      <td>38.0</td>\n",
       "      <td>38.0</td>\n",
       "      <td>0.761905</td>\n",
       "      <td>0.774597</td>\n",
       "      <td>0.600000</td>\n",
       "      <td>0.912171</td>\n",
       "      <td>6.0</td>\n",
       "      <td>0.842105</td>\n",
       "      <td>26.0</td>\n",
       "      <td>26.0</td>\n",
       "      <td>12.500000</td>\n",
       "      <td>-1.0</td>\n",
       "      <td>4</td>\n",
       "      <td>0.000000</td>\n",
       "    </tr>\n",
       "    <tr>\n",
       "      <th>167</th>\n",
       "      <td>1074</td>\n",
       "      <td>15987</td>\n",
       "      <td>2001_1035_2</td>\n",
       "      <td>0</td>\n",
       "      <td>0.999001</td>\n",
       "      <td>1.0</td>\n",
       "      <td>0.75</td>\n",
       "      <td>259</td>\n",
       "      <td>0.581583</td>\n",
       "      <td>0.783514</td>\n",
       "      <td>0.870108</td>\n",
       "      <td>0</td>\n",
       "      <td>0.643032</td>\n",
       "      <td>1.000000</td>\n",
       "      <td>1.000000</td>\n",
       "      <td>1.000000</td>\n",
       "      <td>1.000000</td>\n",
       "      <td>0.0</td>\n",
       "      <td>1.000000</td>\n",
       "      <td>60.0</td>\n",
       "      <td>60.0</td>\n",
       "      <td>0.912281</td>\n",
       "      <td>0.894427</td>\n",
       "      <td>0.800000</td>\n",
       "      <td>0.911696</td>\n",
       "      <td>3.0</td>\n",
       "      <td>0.947368</td>\n",
       "      <td>51.0</td>\n",
       "      <td>51.0</td>\n",
       "      <td>16.333333</td>\n",
       "      <td>1.0</td>\n",
       "      <td>2</td>\n",
       "      <td>0.995115</td>\n",
       "    </tr>\n",
       "  </tbody>\n",
       "</table>\n",
       "</div>"
      ],
      "text/plain": [
       "      _id  ltable_id  ... year_difference  bow_tfidf\n",
       "214   332      18468  ...               0   0.215363\n",
       "225   348       5441  ...               6   0.988601\n",
       "378   621      19384  ...               4   1.000000\n",
       "451   744       9930  ...               4   0.000000\n",
       "167  1074      15987  ...               2   0.995115\n",
       "\n",
       "[5 rows x 33 columns]"
      ]
     },
     "execution_count": 37,
     "metadata": {
      "tags": []
     },
     "output_type": "execute_result"
    }
   ],
   "source": [
    "data.head()"
   ]
  },
  {
   "cell_type": "code",
   "execution_count": null,
   "id": "Lwl7eX_sL0YA",
   "metadata": {
    "colab": {
     "base_uri": "https://localhost:8080/",
     "height": 181
    },
    "id": "Lwl7eX_sL0YA",
    "outputId": "4ad52980-237d-4595-ada4-22beb0ff7325"
   },
   "outputs": [
    {
     "data": {
      "text/html": [
       "<div>\n",
       "<style scoped>\n",
       "    .dataframe tbody tr th:only-of-type {\n",
       "        vertical-align: middle;\n",
       "    }\n",
       "\n",
       "    .dataframe tbody tr th {\n",
       "        vertical-align: top;\n",
       "    }\n",
       "\n",
       "    .dataframe thead th {\n",
       "        text-align: right;\n",
       "    }\n",
       "</style>\n",
       "<table border=\"1\" class=\"dataframe\">\n",
       "  <thead>\n",
       "    <tr style=\"text-align: right;\">\n",
       "      <th></th>\n",
       "      <th>_id</th>\n",
       "      <th>ltable_id</th>\n",
       "      <th>ltable_year</th>\n",
       "      <th>ltable_bow</th>\n",
       "      <th>ltable_authors</th>\n",
       "      <th>ltable_authors_first_last</th>\n",
       "      <th>rtable_id</th>\n",
       "      <th>rtable_year</th>\n",
       "      <th>rtable_bow</th>\n",
       "      <th>rtable_authors</th>\n",
       "      <th>rtable_authors_first_last</th>\n",
       "      <th>rtable_first_author_first</th>\n",
       "      <th>rtable_first_author_last</th>\n",
       "    </tr>\n",
       "  </thead>\n",
       "  <tbody>\n",
       "    <tr>\n",
       "      <th>214</th>\n",
       "      <td>332</td>\n",
       "      <td>18468</td>\n",
       "      <td>2001</td>\n",
       "      <td>top,management,team,heterogeneity,personality,power,and,proxies,this,article,reports,partial,res...</td>\n",
       "      <td>Pitcher, Patricia|Smith, Anne D.</td>\n",
       "      <td>Patricia Pitcher|Anne D. Smith</td>\n",
       "      <td>2001_1017_3</td>\n",
       "      <td>2001</td>\n",
       "      <td>top,management,team,heterogeneity,power,and,performance,in,a,hospital,setting,top,management,tea...</td>\n",
       "      <td>Pitcher, Patricia Cherie|Smith, Anne D|Hood, Jacqueline N.|Houghton, Susan</td>\n",
       "      <td>Patricia Pitcher|Anne Smith|Jacqueline Hood|Susan Houghton</td>\n",
       "      <td>Patricia</td>\n",
       "      <td>Pitcher</td>\n",
       "    </tr>\n",
       "  </tbody>\n",
       "</table>\n",
       "</div>"
      ],
      "text/plain": [
       "     _id  ltable_id  ...  rtable_first_author_first rtable_first_author_last\n",
       "214  332      18468  ...                   Patricia                  Pitcher\n",
       "\n",
       "[1 rows x 13 columns]"
      ]
     },
     "execution_count": 43,
     "metadata": {
      "tags": []
     },
     "output_type": "execute_result"
    }
   ],
   "source": [
    "POS = L[L._id.isin(data._id)]\n",
    "POS.head(n=1)"
   ]
  },
  {
   "cell_type": "code",
   "execution_count": null,
   "id": "qSwzalNsNftm",
   "metadata": {
    "colab": {
     "base_uri": "https://localhost:8080/"
    },
    "id": "qSwzalNsNftm",
    "outputId": "ed43c8c3-752b-4f8b-96f3-97c517250b92"
   },
   "outputs": [
    {
     "name": "stderr",
     "output_type": "stream",
     "text": [
      "/usr/local/lib/python3.7/dist-packages/ipykernel_launcher.py:1: SettingWithCopyWarning: \n",
      "A value is trying to be set on a copy of a slice from a DataFrame.\n",
      "Try using .loc[row_indexer,col_indexer] = value instead\n",
      "\n",
      "See the caveats in the documentation: https://pandas.pydata.org/pandas-docs/stable/user_guide/indexing.html#returning-a-view-versus-a-copy\n",
      "  \"\"\"Entry point for launching an IPython kernel.\n",
      "/usr/local/lib/python3.7/dist-packages/ipykernel_launcher.py:2: SettingWithCopyWarning: \n",
      "A value is trying to be set on a copy of a slice from a DataFrame.\n",
      "Try using .loc[row_indexer,col_indexer] = value instead\n",
      "\n",
      "See the caveats in the documentation: https://pandas.pydata.org/pandas-docs/stable/user_guide/indexing.html#returning-a-view-versus-a-copy\n",
      "  \n"
     ]
    }
   ],
   "source": [
    "POS['ltable_numau'] = 0\n",
    "POS['rtable_numau'] = 0\n",
    "\n",
    "for idx, row in POS.iterrows():\n",
    "  POS.at[idx, 'ltable_numau'] = len(row.ltable_authors.split(\"|\"))\n",
    "  POS.at[idx, 'rtable_numau'] = len(row.rtable_authors.split(\"|\"))\n"
   ]
  },
  {
   "cell_type": "code",
   "execution_count": null,
   "id": "YFOd2ooEOah7",
   "metadata": {
    "colab": {
     "base_uri": "https://localhost:8080/"
    },
    "id": "YFOd2ooEOah7",
    "outputId": "391304eb-61de-412d-e2e6-0b4f4e40737a"
   },
   "outputs": [
    {
     "data": {
      "text/plain": [
       "_id                                                                                                                          332\n",
       "ltable_id                                                                                                                  18468\n",
       "ltable_year                                                                                                                 2001\n",
       "ltable_bow                   top,management,team,heterogeneity,personality,power,and,proxies,this,article,reports,partial,res...\n",
       "ltable_authors                                                                                  Pitcher, Patricia|Smith, Anne D.\n",
       "ltable_authors_first_last                                                                         Patricia Pitcher|Anne D. Smith\n",
       "rtable_id                                                                                                            2001_1017_3\n",
       "rtable_year                                                                                                                 2001\n",
       "rtable_bow                   top,management,team,heterogeneity,power,and,performance,in,a,hospital,setting,top,management,tea...\n",
       "rtable_authors                                        Pitcher, Patricia Cherie|Smith, Anne D|Hood, Jacqueline N.|Houghton, Susan\n",
       "rtable_authors_first_last                                             Patricia Pitcher|Anne Smith|Jacqueline Hood|Susan Houghton\n",
       "rtable_first_author_first                                                                                               Patricia\n",
       "rtable_first_author_last                                                                                                 Pitcher\n",
       "ltable_numau                                                                                                                   2\n",
       "rtable_numau                                                                                                                   4\n",
       "match22                                                                                                                    False\n",
       "Name: 214, dtype: object"
      ]
     },
     "execution_count": 58,
     "metadata": {
      "tags": []
     },
     "output_type": "execute_result"
    }
   ],
   "source": [
    "POS.iloc[0]"
   ]
  },
  {
   "cell_type": "code",
   "execution_count": null,
   "id": "_lgLtwk-OdKi",
   "metadata": {
    "colab": {
     "base_uri": "https://localhost:8080/"
    },
    "id": "_lgLtwk-OdKi",
    "outputId": "165afe90-8a19-444c-9343-8008480e1f72"
   },
   "outputs": [
    {
     "name": "stderr",
     "output_type": "stream",
     "text": [
      "/usr/local/lib/python3.7/dist-packages/ipykernel_launcher.py:1: SettingWithCopyWarning: \n",
      "A value is trying to be set on a copy of a slice from a DataFrame.\n",
      "Try using .loc[row_indexer,col_indexer] = value instead\n",
      "\n",
      "See the caveats in the documentation: https://pandas.pydata.org/pandas-docs/stable/user_guide/indexing.html#returning-a-view-versus-a-copy\n",
      "  \"\"\"Entry point for launching an IPython kernel.\n"
     ]
    }
   ],
   "source": [
    "POS['match22'] = (POS.ltable_numau == POS.rtable_numau) & (POS.ltable_numau == 2)"
   ]
  },
  {
   "cell_type": "code",
   "execution_count": null,
   "id": "H02zaf9DO2zw",
   "metadata": {
    "colab": {
     "base_uri": "https://localhost:8080/"
    },
    "id": "H02zaf9DO2zw",
    "outputId": "4f7e9d40-1a43-443e-91f1-2de9857d4a7e"
   },
   "outputs": [
    {
     "name": "stderr",
     "output_type": "stream",
     "text": [
      "/usr/local/lib/python3.7/dist-packages/ipykernel_launcher.py:1: SettingWithCopyWarning: \n",
      "A value is trying to be set on a copy of a slice from a DataFrame.\n",
      "Try using .loc[row_indexer,col_indexer] = value instead\n",
      "\n",
      "See the caveats in the documentation: https://pandas.pydata.org/pandas-docs/stable/user_guide/indexing.html#returning-a-view-versus-a-copy\n",
      "  \"\"\"Entry point for launching an IPython kernel.\n"
     ]
    }
   ],
   "source": [
    "POS['year_diff'] = POS.ltable_year - POS.rtable_year "
   ]
  },
  {
   "cell_type": "code",
   "execution_count": null,
   "id": "hUP4k3UuO7zo",
   "metadata": {
    "colab": {
     "base_uri": "https://localhost:8080/"
    },
    "id": "hUP4k3UuO7zo",
    "outputId": "513b0dc3-99d3-4865-8b5f-25be1a4215ef"
   },
   "outputs": [
    {
     "data": {
      "text/plain": [
       "_id                                                                                                                          332\n",
       "ltable_id                                                                                                                  18468\n",
       "ltable_year                                                                                                                 2001\n",
       "ltable_bow                   top,management,team,heterogeneity,personality,power,and,proxies,this,article,reports,partial,res...\n",
       "ltable_authors                                                                                  Pitcher, Patricia|Smith, Anne D.\n",
       "ltable_authors_first_last                                                                         Patricia Pitcher|Anne D. Smith\n",
       "rtable_id                                                                                                            2001_1017_3\n",
       "rtable_year                                                                                                                 2001\n",
       "rtable_bow                   top,management,team,heterogeneity,power,and,performance,in,a,hospital,setting,top,management,tea...\n",
       "rtable_authors                                        Pitcher, Patricia Cherie|Smith, Anne D|Hood, Jacqueline N.|Houghton, Susan\n",
       "rtable_authors_first_last                                             Patricia Pitcher|Anne Smith|Jacqueline Hood|Susan Houghton\n",
       "rtable_first_author_first                                                                                               Patricia\n",
       "rtable_first_author_last                                                                                                 Pitcher\n",
       "ltable_numau                                                                                                                   2\n",
       "rtable_numau                                                                                                                   4\n",
       "match22                                                                                                                    False\n",
       "year_diff                                                                                                                      0\n",
       "Name: 214, dtype: object"
      ]
     },
     "execution_count": 60,
     "metadata": {
      "tags": []
     },
     "output_type": "execute_result"
    }
   ],
   "source": [
    "POS.iloc[0]"
   ]
  },
  {
   "cell_type": "code",
   "execution_count": null,
   "id": "Kis72ZQ5O-0c",
   "metadata": {
    "id": "Kis72ZQ5O-0c"
   },
   "outputs": [],
   "source": [
    "POS.to_csv(f\"{path_to_csv_dir}/predictions_actual_matching_pos_210607.csv\", index=False)"
   ]
  }
 ],
 "metadata": {
  "colab": {
   "collapsed_sections": [],
   "name": "AOM_Paper_Matching.ipynb",
   "provenance": [],
   "toc_visible": true
  },
  "kernelspec": {
   "display_name": "Python 3",
   "language": "python",
   "name": "python3"
  },
  "language_info": {
   "codemirror_mode": {
    "name": "ipython",
    "version": 3
   },
   "file_extension": ".py",
   "mimetype": "text/x-python",
   "name": "python",
   "nbconvert_exporter": "python",
   "pygments_lexer": "ipython3",
   "version": "3.6.0"
  }
 },
 "nbformat": 4,
 "nbformat_minor": 5
}
